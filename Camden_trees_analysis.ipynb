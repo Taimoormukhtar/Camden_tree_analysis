{
 "cells": [
  {
   "cell_type": "markdown",
   "id": "092d7a19",
   "metadata": {},
   "source": [
    "# Trees in Camden"
   ]
  },
  {
   "cell_type": "markdown",
   "id": "6e5a6ac4",
   "metadata": {},
   "source": [
    "Use this notebook to complete your analysis. Enter code and comments after the TODOs.\n",
    "\n",
    "There are some code cells completed for you. These are highlighted with a TODO comment. You can use these to guide the subsequent tasks. Other cells require you to read documentation or search for answers. The markdown comments give you links to some useful documentation and articles. Read the documentation, look at the examples provided in the documentation and then try to apply them to your data.\n",
    "\n",
    "Remember that you can find information on the pandas functions on the Pandas website https://pandas.pydata.org/pandas-docs/stable/reference/frame.html or directly in the notebook by puttin a ? before or after the function name. for instance: ?df.head() or df['Maturity'].value_counts()?"
   ]
  },
  {
   "cell_type": "markdown",
   "id": "a257b47b",
   "metadata": {},
   "source": [
    "# Imports\n",
    "#### Import the libraries we need to perform the analysis."
   ]
  },
  {
   "cell_type": "code",
   "execution_count": 1,
   "id": "04f009e2",
   "metadata": {},
   "outputs": [],
   "source": [
    "import pandas as pd"
   ]
  },
  {
   "cell_type": "markdown",
   "id": "09c5e637",
   "metadata": {},
   "source": [
    "# Task 2: Load Data and Perform Initial Exploration\n",
    "Load the data from the supplied data files. The files are in different file formats, but Pandas can handle this.\n",
    "\n",
    "You should read the data in using the appropriate function:\n",
    "\n",
    "- pandas.read_excel\n",
    "- pandas.read_csv\n",
    "- pandas.read_json\n",
    "\n",
    "You can then inspect the first few rows of the loaded dataframe:\n",
    "\n",
    "- pandas.DataFrame.head\n",
    "\n",
    "You can get the number of rows and columns:\n",
    "\n",
    "- pandas.DataFrame.shape\n",
    "\n",
    "You can get the list of column names:\n",
    "\n",
    "- pandas.DataFrame.columns\n",
    "\n",
    "And you can list the data types of the columns:\n",
    "\n",
    "- pandas.DataFrames.dtypes\n",
    "\n",
    "I've done the first one (loading \"camden_trees.xlsx\") for you. Please load \"camden_trees_environmental.csv\" and \"tree_common_names.json\" and analyse them in the same way.\n",
    "\n",
    "## 2.1 Trees\n",
    "The file \"camden_trees.xlsx\" is an Excel file, so we use the read_excel() function."
   ]
  },
  {
   "cell_type": "code",
   "execution_count": 2,
   "id": "b3b5deb3",
   "metadata": {},
   "outputs": [
    {
     "name": "stderr",
     "output_type": "stream",
     "text": [
      "<>:2: SyntaxWarning: invalid escape sequence '\\j'\n",
      "<>:2: SyntaxWarning: invalid escape sequence '\\j'\n",
      "C:\\Users\\user\\AppData\\Local\\Temp\\ipykernel_7532\\2511867499.py:2: SyntaxWarning: invalid escape sequence '\\j'\n",
      "  trees = pd.read_excel(\"E:\\johnyvanae python\\camden_trees.xlsx\")\n"
     ]
    }
   ],
   "source": [
    "# Create a Pandas dataframe called trees that contains the contents of the Excel file\n",
    "trees = pd.read_excel(\"E:\\johnyvanae python\\camden_trees.xlsx\")"
   ]
  },
  {
   "cell_type": "markdown",
   "id": "adc24d6f",
   "metadata": {},
   "source": [
    "We can now inspect the first few rows using head(). By default, head() displays the first 5 rows."
   ]
  },
  {
   "cell_type": "code",
   "execution_count": 3,
   "id": "db497422",
   "metadata": {},
   "outputs": [
    {
     "data": {
      "text/html": [
       "<div>\n",
       "<style scoped>\n",
       "    .dataframe tbody tr th:only-of-type {\n",
       "        vertical-align: middle;\n",
       "    }\n",
       "\n",
       "    .dataframe tbody tr th {\n",
       "        vertical-align: top;\n",
       "    }\n",
       "\n",
       "    .dataframe thead th {\n",
       "        text-align: right;\n",
       "    }\n",
       "</style>\n",
       "<table border=\"1\" class=\"dataframe\">\n",
       "  <thead>\n",
       "    <tr style=\"text-align: right;\">\n",
       "      <th></th>\n",
       "      <th>Identifier</th>\n",
       "      <th>Number Of Trees</th>\n",
       "      <th>Site Name</th>\n",
       "      <th>Contract Area</th>\n",
       "      <th>Scientific Name</th>\n",
       "      <th>Inspection Date</th>\n",
       "      <th>Inspection Due Date</th>\n",
       "      <th>Height In Metres</th>\n",
       "      <th>Spread In Metres</th>\n",
       "      <th>Diameter In Centimetres At Breast Height</th>\n",
       "      <th>Ward Code</th>\n",
       "      <th>Ward Name</th>\n",
       "      <th>Easting</th>\n",
       "      <th>Northing</th>\n",
       "      <th>Longitude</th>\n",
       "      <th>Latitude</th>\n",
       "      <th>Location</th>\n",
       "    </tr>\n",
       "  </thead>\n",
       "  <tbody>\n",
       "    <tr>\n",
       "      <th>0</th>\n",
       "      <td>00060053</td>\n",
       "      <td>1.0</td>\n",
       "      <td>Russell Nurseries Estate</td>\n",
       "      <td>Housing</td>\n",
       "      <td>Vacant Tree Pit</td>\n",
       "      <td>NaT</td>\n",
       "      <td>NaN</td>\n",
       "      <td>NaN</td>\n",
       "      <td>NaN</td>\n",
       "      <td>NaN</td>\n",
       "      <td>E05000135</td>\n",
       "      <td>Hampstead Town</td>\n",
       "      <td>527305</td>\n",
       "      <td>185240</td>\n",
       "      <td>-0.165240</td>\n",
       "      <td>51.551693</td>\n",
       "      <td>(51.551693, -0.16524)</td>\n",
       "    </tr>\n",
       "    <tr>\n",
       "      <th>1</th>\n",
       "      <td>00057855</td>\n",
       "      <td>1.0</td>\n",
       "      <td>BRECKNOCK JMI (E)</td>\n",
       "      <td>Education</td>\n",
       "      <td>Vacant Tree Pit</td>\n",
       "      <td>2019-07-17</td>\n",
       "      <td>2022/2023</td>\n",
       "      <td>NaN</td>\n",
       "      <td>NaN</td>\n",
       "      <td>NaN</td>\n",
       "      <td>E05000131</td>\n",
       "      <td>Cantelowes</td>\n",
       "      <td>529923</td>\n",
       "      <td>184782</td>\n",
       "      <td>-0.127681</td>\n",
       "      <td>51.546984</td>\n",
       "      <td>(51.546984, -0.127681)</td>\n",
       "    </tr>\n",
       "    <tr>\n",
       "      <th>2</th>\n",
       "      <td>00059953</td>\n",
       "      <td>1.0</td>\n",
       "      <td>Estate 51 Ravenshaw Street</td>\n",
       "      <td>Housing</td>\n",
       "      <td>Ficus carica</td>\n",
       "      <td>NaT</td>\n",
       "      <td>NaN</td>\n",
       "      <td>5.0</td>\n",
       "      <td>4.0</td>\n",
       "      <td>10.0</td>\n",
       "      <td>NaN</td>\n",
       "      <td>NaN</td>\n",
       "      <td>0</td>\n",
       "      <td>0</td>\n",
       "      <td>NaN</td>\n",
       "      <td>NaN</td>\n",
       "      <td>NaN</td>\n",
       "    </tr>\n",
       "    <tr>\n",
       "      <th>3</th>\n",
       "      <td>00059915</td>\n",
       "      <td>1.0</td>\n",
       "      <td>ROSARY RC JMI (E)</td>\n",
       "      <td>Education</td>\n",
       "      <td>Betula jacquemontii</td>\n",
       "      <td>NaT</td>\n",
       "      <td>NaN</td>\n",
       "      <td>4.0</td>\n",
       "      <td>1.0</td>\n",
       "      <td>6.0</td>\n",
       "      <td>E05000135</td>\n",
       "      <td>Hampstead Town</td>\n",
       "      <td>527249</td>\n",
       "      <td>185261</td>\n",
       "      <td>-0.166051</td>\n",
       "      <td>51.551901</td>\n",
       "      <td>(51.551901, -0.166051)</td>\n",
       "    </tr>\n",
       "    <tr>\n",
       "      <th>4</th>\n",
       "      <td>00010762</td>\n",
       "      <td>1.0</td>\n",
       "      <td>Holly Lodge Estate</td>\n",
       "      <td>Housing</td>\n",
       "      <td>Ilex x altaclarensis</td>\n",
       "      <td>2017-06-14</td>\n",
       "      <td>2020/2021</td>\n",
       "      <td>14.0</td>\n",
       "      <td>6.0</td>\n",
       "      <td>26.0</td>\n",
       "      <td>E05000137</td>\n",
       "      <td>Highgate</td>\n",
       "      <td>528414</td>\n",
       "      <td>186770</td>\n",
       "      <td>-0.148704</td>\n",
       "      <td>51.565198</td>\n",
       "      <td>(51.565198, -0.148704)</td>\n",
       "    </tr>\n",
       "  </tbody>\n",
       "</table>\n",
       "</div>"
      ],
      "text/plain": [
       "  Identifier  Number Of Trees                   Site Name Contract Area  \\\n",
       "0   00060053              1.0    Russell Nurseries Estate       Housing   \n",
       "1   00057855              1.0           BRECKNOCK JMI (E)     Education   \n",
       "2   00059953              1.0  Estate 51 Ravenshaw Street       Housing   \n",
       "3   00059915              1.0           ROSARY RC JMI (E)     Education   \n",
       "4   00010762              1.0          Holly Lodge Estate       Housing   \n",
       "\n",
       "        Scientific Name Inspection Date Inspection Due Date  Height In Metres  \\\n",
       "0       Vacant Tree Pit             NaT                 NaN               NaN   \n",
       "1       Vacant Tree Pit      2019-07-17           2022/2023               NaN   \n",
       "2          Ficus carica             NaT                 NaN               5.0   \n",
       "3   Betula jacquemontii             NaT                 NaN               4.0   \n",
       "4  Ilex x altaclarensis      2017-06-14           2020/2021              14.0   \n",
       "\n",
       "   Spread In Metres  Diameter In Centimetres At Breast Height  Ward Code  \\\n",
       "0               NaN                                       NaN  E05000135   \n",
       "1               NaN                                       NaN  E05000131   \n",
       "2               4.0                                      10.0        NaN   \n",
       "3               1.0                                       6.0  E05000135   \n",
       "4               6.0                                      26.0  E05000137   \n",
       "\n",
       "        Ward Name  Easting  Northing  Longitude   Latitude  \\\n",
       "0  Hampstead Town   527305    185240  -0.165240  51.551693   \n",
       "1      Cantelowes   529923    184782  -0.127681  51.546984   \n",
       "2             NaN        0         0        NaN        NaN   \n",
       "3  Hampstead Town   527249    185261  -0.166051  51.551901   \n",
       "4        Highgate   528414    186770  -0.148704  51.565198   \n",
       "\n",
       "                 Location  \n",
       "0   (51.551693, -0.16524)  \n",
       "1  (51.546984, -0.127681)  \n",
       "2                     NaN  \n",
       "3  (51.551901, -0.166051)  \n",
       "4  (51.565198, -0.148704)  "
      ]
     },
     "execution_count": 3,
     "metadata": {},
     "output_type": "execute_result"
    }
   ],
   "source": [
    "# Display the first few rows\n",
    "trees.head()"
   ]
  },
  {
   "cell_type": "markdown",
   "id": "0dc211c8",
   "metadata": {},
   "source": [
    "It's good to understand the size of the dataset we are dealing with. The shape property does this for us."
   ]
  },
  {
   "cell_type": "code",
   "execution_count": 4,
   "id": "b9ea858b",
   "metadata": {},
   "outputs": [
    {
     "data": {
      "text/plain": [
       "(23444, 17)"
      ]
     },
     "execution_count": 4,
     "metadata": {},
     "output_type": "execute_result"
    }
   ],
   "source": [
    "# Get the number of rows and columns\n",
    "trees.shape"
   ]
  },
  {
   "cell_type": "markdown",
   "id": "3d0ab8d9",
   "metadata": {},
   "source": [
    "If there are lots of columns we can't always see all of them in the head() list above. We can use the columns property to get a full list:"
   ]
  },
  {
   "cell_type": "code",
   "execution_count": 5,
   "id": "07fe081e",
   "metadata": {},
   "outputs": [
    {
     "data": {
      "text/plain": [
       "Index(['Identifier', 'Number Of Trees', 'Site Name', 'Contract Area',\n",
       "       'Scientific Name', 'Inspection Date', 'Inspection Due Date',\n",
       "       'Height In Metres', 'Spread In Metres',\n",
       "       'Diameter In Centimetres At Breast Height', 'Ward Code', 'Ward Name',\n",
       "       'Easting', 'Northing', 'Longitude', 'Latitude', 'Location'],\n",
       "      dtype='object')"
      ]
     },
     "execution_count": 5,
     "metadata": {},
     "output_type": "execute_result"
    }
   ],
   "source": [
    "# Get a list of all the columns in the dataframe\n",
    "trees.columns"
   ]
  },
  {
   "cell_type": "markdown",
   "id": "79e096ba",
   "metadata": {},
   "source": [
    "In order to process the data properly, we should understand the data type for each column. Pandas attempts to work this out for us, but sometimes we need to give it a bit of a hand. We can use the dtypes property to list the data types. Note that object is Pandas way of saying string, i.e. a text data type."
   ]
  },
  {
   "cell_type": "code",
   "execution_count": 6,
   "id": "c149ba85",
   "metadata": {},
   "outputs": [
    {
     "data": {
      "text/plain": [
       "Identifier                                          object\n",
       "Number Of Trees                                    float64\n",
       "Site Name                                           object\n",
       "Contract Area                                       object\n",
       "Scientific Name                                     object\n",
       "Inspection Date                             datetime64[ns]\n",
       "Inspection Due Date                                 object\n",
       "Height In Metres                                   float64\n",
       "Spread In Metres                                   float64\n",
       "Diameter In Centimetres At Breast Height           float64\n",
       "Ward Code                                           object\n",
       "Ward Name                                           object\n",
       "Easting                                              int64\n",
       "Northing                                             int64\n",
       "Longitude                                          float64\n",
       "Latitude                                           float64\n",
       "Location                                            object\n",
       "dtype: object"
      ]
     },
     "execution_count": 6,
     "metadata": {},
     "output_type": "execute_result"
    }
   ],
   "source": [
    "# List the data types of each column\n",
    "trees.dtypes"
   ]
  },
  {
   "cell_type": "markdown",
   "id": "d41ad6b0",
   "metadata": {},
   "source": [
    "## 2.2 Environmental\n",
    "#### The file \"camden_trees_environmental.csv\" is a csv file. Use the appropriate function to load it into a Pandas DataFrame."
   ]
  },
  {
   "cell_type": "code",
   "execution_count": 7,
   "id": "dcea2517",
   "metadata": {},
   "outputs": [
    {
     "name": "stderr",
     "output_type": "stream",
     "text": [
      "<>:2: SyntaxWarning: invalid escape sequence '\\j'\n",
      "<>:2: SyntaxWarning: invalid escape sequence '\\j'\n",
      "C:\\Users\\user\\AppData\\Local\\Temp\\ipykernel_7532\\333834569.py:2: SyntaxWarning: invalid escape sequence '\\j'\n",
      "  environmental=pd.read_csv(\"E:\\johnyvanae python\\camden_trees_environmental.csv\")\n"
     ]
    }
   ],
   "source": [
    "# Create a Pandas dataframe called environmental that contains the contents of the csv file\n",
    "environmental=pd.read_csv(\"E:\\johnyvanae python\\camden_trees_environmental.csv\")"
   ]
  },
  {
   "cell_type": "code",
   "execution_count": 8,
   "id": "8d49111b",
   "metadata": {},
   "outputs": [
    {
     "data": {
      "text/html": [
       "<div>\n",
       "<style scoped>\n",
       "    .dataframe tbody tr th:only-of-type {\n",
       "        vertical-align: middle;\n",
       "    }\n",
       "\n",
       "    .dataframe tbody tr th {\n",
       "        vertical-align: top;\n",
       "    }\n",
       "\n",
       "    .dataframe thead th {\n",
       "        text-align: right;\n",
       "    }\n",
       "</style>\n",
       "<table border=\"1\" class=\"dataframe\">\n",
       "  <thead>\n",
       "    <tr style=\"text-align: right;\">\n",
       "      <th></th>\n",
       "      <th>Identifier</th>\n",
       "      <th>Maturity</th>\n",
       "      <th>Physiological Condition</th>\n",
       "      <th>Tree Set To Be Removed</th>\n",
       "      <th>Removal Reason</th>\n",
       "      <th>Capital Asset Value For Amenity Trees</th>\n",
       "      <th>Carbon Storage In Kilograms</th>\n",
       "      <th>Gross Carbon Sequestration Per Year In Kilograms</th>\n",
       "      <th>Pollution Removal Per Year In Grams</th>\n",
       "    </tr>\n",
       "  </thead>\n",
       "  <tbody>\n",
       "    <tr>\n",
       "      <th>0</th>\n",
       "      <td>55125</td>\n",
       "      <td>Juvenile</td>\n",
       "      <td>Good</td>\n",
       "      <td>No</td>\n",
       "      <td>NaN</td>\n",
       "      <td>115.07</td>\n",
       "      <td>1.6</td>\n",
       "      <td>0.5</td>\n",
       "      <td>5.7</td>\n",
       "    </tr>\n",
       "    <tr>\n",
       "      <th>1</th>\n",
       "      <td>59429</td>\n",
       "      <td>Middle aged</td>\n",
       "      <td>Fair</td>\n",
       "      <td>No</td>\n",
       "      <td>NaN</td>\n",
       "      <td>7518.08</td>\n",
       "      <td>NaN</td>\n",
       "      <td>NaN</td>\n",
       "      <td>NaN</td>\n",
       "    </tr>\n",
       "    <tr>\n",
       "      <th>2</th>\n",
       "      <td>18254</td>\n",
       "      <td>Mature</td>\n",
       "      <td>Fair</td>\n",
       "      <td>No</td>\n",
       "      <td>NaN</td>\n",
       "      <td>20419.63</td>\n",
       "      <td>426.4</td>\n",
       "      <td>8.8</td>\n",
       "      <td>215.2</td>\n",
       "    </tr>\n",
       "    <tr>\n",
       "      <th>3</th>\n",
       "      <td>27155</td>\n",
       "      <td>Mature</td>\n",
       "      <td>Fair</td>\n",
       "      <td>No</td>\n",
       "      <td>NaN</td>\n",
       "      <td>21447.74</td>\n",
       "      <td>448.3</td>\n",
       "      <td>9.6</td>\n",
       "      <td>379.1</td>\n",
       "    </tr>\n",
       "    <tr>\n",
       "      <th>4</th>\n",
       "      <td>41326</td>\n",
       "      <td>Juvenile</td>\n",
       "      <td>Good</td>\n",
       "      <td>No</td>\n",
       "      <td>NaN</td>\n",
       "      <td>524.30</td>\n",
       "      <td>9.9</td>\n",
       "      <td>1.4</td>\n",
       "      <td>12.8</td>\n",
       "    </tr>\n",
       "  </tbody>\n",
       "</table>\n",
       "</div>"
      ],
      "text/plain": [
       "  Identifier     Maturity Physiological Condition Tree Set To Be Removed  \\\n",
       "0      55125     Juvenile                    Good                     No   \n",
       "1      59429  Middle aged                    Fair                     No   \n",
       "2      18254       Mature                    Fair                     No   \n",
       "3      27155       Mature                    Fair                     No   \n",
       "4      41326     Juvenile                    Good                     No   \n",
       "\n",
       "  Removal Reason  Capital Asset Value For Amenity Trees  \\\n",
       "0            NaN                                 115.07   \n",
       "1            NaN                                7518.08   \n",
       "2            NaN                               20419.63   \n",
       "3            NaN                               21447.74   \n",
       "4            NaN                                 524.30   \n",
       "\n",
       "   Carbon Storage In Kilograms  \\\n",
       "0                          1.6   \n",
       "1                          NaN   \n",
       "2                        426.4   \n",
       "3                        448.3   \n",
       "4                          9.9   \n",
       "\n",
       "   Gross Carbon Sequestration Per Year In Kilograms  \\\n",
       "0                                               0.5   \n",
       "1                                               NaN   \n",
       "2                                               8.8   \n",
       "3                                               9.6   \n",
       "4                                               1.4   \n",
       "\n",
       "   Pollution Removal Per Year In Grams  \n",
       "0                                  5.7  \n",
       "1                                  NaN  \n",
       "2                                215.2  \n",
       "3                                379.1  \n",
       "4                                 12.8  "
      ]
     },
     "execution_count": 8,
     "metadata": {},
     "output_type": "execute_result"
    }
   ],
   "source": [
    "#Display the first few rows\n",
    "environmental.head()"
   ]
  },
  {
   "cell_type": "code",
   "execution_count": 9,
   "id": "6fadb219",
   "metadata": {},
   "outputs": [
    {
     "data": {
      "text/plain": [
       "(23415, 9)"
      ]
     },
     "execution_count": 9,
     "metadata": {},
     "output_type": "execute_result"
    }
   ],
   "source": [
    "# Get the number of rows and columns\n",
    "environmental.shape"
   ]
  },
  {
   "cell_type": "code",
   "execution_count": 10,
   "id": "c352756c",
   "metadata": {},
   "outputs": [
    {
     "data": {
      "text/plain": [
       "Index(['Identifier', 'Maturity', 'Physiological Condition',\n",
       "       'Tree Set To Be Removed', 'Removal Reason',\n",
       "       'Capital Asset Value For Amenity Trees', 'Carbon Storage In Kilograms',\n",
       "       'Gross Carbon Sequestration Per Year In Kilograms',\n",
       "       'Pollution Removal Per Year In Grams'],\n",
       "      dtype='object')"
      ]
     },
     "execution_count": 10,
     "metadata": {},
     "output_type": "execute_result"
    }
   ],
   "source": [
    "# Get a list of all the columns in the dataframe\n",
    "environmental.columns"
   ]
  },
  {
   "cell_type": "code",
   "execution_count": 11,
   "id": "abf2a60b",
   "metadata": {},
   "outputs": [
    {
     "data": {
      "text/plain": [
       "Identifier                                           object\n",
       "Maturity                                             object\n",
       "Physiological Condition                              object\n",
       "Tree Set To Be Removed                               object\n",
       "Removal Reason                                       object\n",
       "Capital Asset Value For Amenity Trees               float64\n",
       "Carbon Storage In Kilograms                         float64\n",
       "Gross Carbon Sequestration Per Year In Kilograms    float64\n",
       "Pollution Removal Per Year In Grams                 float64\n",
       "dtype: object"
      ]
     },
     "execution_count": 11,
     "metadata": {},
     "output_type": "execute_result"
    }
   ],
   "source": [
    "# List the data types of each column\n",
    "environmental.dtypes"
   ]
  },
  {
   "cell_type": "markdown",
   "id": "2b9bba82",
   "metadata": {},
   "source": [
    "## 2.3 Common and Scientific Names\n",
    "#### The file \"tree_common_names.json\" is a json file. Use the appropriate function to load it into a Pandas DataFrame."
   ]
  },
  {
   "cell_type": "code",
   "execution_count": 12,
   "id": "06ee424f",
   "metadata": {},
   "outputs": [],
   "source": [
    "# Create a Pandas dataframe called names that contains the contents of the json file\n",
    "names=pd.read_json(r\"E:\\johnyvanae python\\tree_common_names.json.txt\")"
   ]
  },
  {
   "cell_type": "code",
   "execution_count": 13,
   "id": "2fa7a546",
   "metadata": {},
   "outputs": [
    {
     "data": {
      "text/html": [
       "<div>\n",
       "<style scoped>\n",
       "    .dataframe tbody tr th:only-of-type {\n",
       "        vertical-align: middle;\n",
       "    }\n",
       "\n",
       "    .dataframe tbody tr th {\n",
       "        vertical-align: top;\n",
       "    }\n",
       "\n",
       "    .dataframe thead th {\n",
       "        text-align: right;\n",
       "    }\n",
       "</style>\n",
       "<table border=\"1\" class=\"dataframe\">\n",
       "  <thead>\n",
       "    <tr style=\"text-align: right;\">\n",
       "      <th></th>\n",
       "      <th>Scientific Name</th>\n",
       "      <th>Common Name</th>\n",
       "    </tr>\n",
       "  </thead>\n",
       "  <tbody>\n",
       "    <tr>\n",
       "      <th>0</th>\n",
       "      <td>Carpinus betulus Lucas</td>\n",
       "      <td>Hornbeam - European</td>\n",
       "    </tr>\n",
       "    <tr>\n",
       "      <th>1</th>\n",
       "      <td>Prunus 'Pandora'</td>\n",
       "      <td>Cherry - Ornamental</td>\n",
       "    </tr>\n",
       "    <tr>\n",
       "      <th>2</th>\n",
       "      <td>Tilia unidentified species</td>\n",
       "      <td>Lime</td>\n",
       "    </tr>\n",
       "    <tr>\n",
       "      <th>3</th>\n",
       "      <td>Rosa unidentified species</td>\n",
       "      <td>None</td>\n",
       "    </tr>\n",
       "    <tr>\n",
       "      <th>4</th>\n",
       "      <td>Cedrus libani</td>\n",
       "      <td>Cedar of Lebanon</td>\n",
       "    </tr>\n",
       "  </tbody>\n",
       "</table>\n",
       "</div>"
      ],
      "text/plain": [
       "              Scientific Name          Common Name\n",
       "0      Carpinus betulus Lucas  Hornbeam - European\n",
       "1            Prunus 'Pandora'  Cherry - Ornamental\n",
       "2  Tilia unidentified species                 Lime\n",
       "3   Rosa unidentified species                 None\n",
       "4               Cedrus libani     Cedar of Lebanon"
      ]
     },
     "execution_count": 13,
     "metadata": {},
     "output_type": "execute_result"
    }
   ],
   "source": [
    "# Display the first few rows\n",
    "names.head()"
   ]
  },
  {
   "cell_type": "code",
   "execution_count": 14,
   "id": "ea73de9a",
   "metadata": {},
   "outputs": [
    {
     "data": {
      "text/plain": [
       "(589, 2)"
      ]
     },
     "execution_count": 14,
     "metadata": {},
     "output_type": "execute_result"
    }
   ],
   "source": [
    "# Get the number of rows and columns\n",
    "names.shape"
   ]
  },
  {
   "cell_type": "code",
   "execution_count": 15,
   "id": "94e7d89e",
   "metadata": {},
   "outputs": [
    {
     "data": {
      "text/plain": [
       "Index(['Scientific Name', 'Common Name'], dtype='object')"
      ]
     },
     "execution_count": 15,
     "metadata": {},
     "output_type": "execute_result"
    }
   ],
   "source": [
    "# Get a list of all the columns in the dataframe\n",
    "names.columns"
   ]
  },
  {
   "cell_type": "code",
   "execution_count": 16,
   "id": "1fce28f6",
   "metadata": {},
   "outputs": [
    {
     "data": {
      "text/plain": [
       "Scientific Name    object\n",
       "Common Name        object\n",
       "dtype: object"
      ]
     },
     "execution_count": 16,
     "metadata": {},
     "output_type": "execute_result"
    }
   ],
   "source": [
    "# List the data types of each column\n",
    "names.dtypes"
   ]
  },
  {
   "cell_type": "markdown",
   "id": "54df79f1",
   "metadata": {},
   "source": [
    "## 2.4 Review\n",
    "At the end of this task you should have a good basic understanding of the contents and overall shape of the different data files. If you don't, do back and review the outputs above."
   ]
  },
  {
   "cell_type": "markdown",
   "id": "0cfa0647",
   "metadata": {},
   "source": [
    "# Task 3: Further Inspect the Datasets\n",
    "The initial inspection gave you a very high-level understanding of the data. We will now drill a bit deeper and try to understand the data column-by-column.\n",
    "\n",
    "For columns with a string data type (object in Pandas) we have qualitative data. It would be good to know how many different values we have in the column, what those values are and the count how many of each different value we have. This will help us understand if the qualitative variable is binary, nominal or ordinal.\n",
    "\n",
    "For columns with a numeric data type (int or float) we have quantitative data. Usually integer type variables can the thought of as discrete and float type variables can be thought of as continuous. It would be good to know some summary descriptive statistics for these columns.\n",
    "\n",
    "If you are unsure of what these different data classifications mean, read this:\n",
    "\n",
    "- Types of Variables\n",
    "\n",
    "You can get the list of values and counts for a column using this function:\n",
    "\n",
    "- pandas.Series.value_counts\n",
    "\n",
    "You can get the descriptive statistics for a DataFrame using this function:\n",
    "\n",
    "- pandas.DataFrame.describe\n",
    "\n",
    "Note that Pandas may treat integer columns as floats if there are null values in the columns. So if you see a float data type it might be worth checking the actual values to confirm if it really is a float or if it really is an int with nulls. You can check the actual values with:\n",
    "\n",
    "- pandas.Series.unique\n",
    "\n",
    "## 3.1 Further Inspect the Trees Dataset\n",
    "Let's start with the trees dataset.\n",
    "\n",
    "### 3.1.a Counts of Values for String Types Columns\n",
    "\n",
    "Go through each column that is a string (object) type and count the number of rows for each value in the column. After each one, classify the data as binary, nominal or ordinal using a markdown comment.\n",
    "\n",
    "I've done the first one for you.\n",
    "\n",
    "#### Site Name"
   ]
  },
  {
   "cell_type": "code",
   "execution_count": 17,
   "id": "4eb143ee",
   "metadata": {},
   "outputs": [
    {
     "data": {
      "text/plain": [
       "Site Name\n",
       "WATERLOW PARK (LS)                         920\n",
       "Alexandra & Ainsworth Estate               289\n",
       "Belsize nature reserve, Russell Nursery    278\n",
       "Holly Lodge Estate                         272\n",
       "LINCOLN'S INN FIELDS, GARDENS (LS)         193\n",
       "                                          ... \n",
       "GOLDINGTON CRESCENT                          1\n",
       "ALLCROFT ROAD                                1\n",
       "WOBURN WALK, LAND BEHIND 4-18                1\n",
       "KILBURN PRIORY                               1\n",
       "GOODGE PLACE                                 1\n",
       "Name: count, Length: 1135, dtype: int64"
      ]
     },
     "execution_count": 17,
     "metadata": {},
     "output_type": "execute_result"
    }
   ],
   "source": [
    "# List of values in Site Name column and their counts\n",
    "trees[\"Site Name\"].value_counts()"
   ]
  },
  {
   "cell_type": "markdown",
   "id": "34ce19e7",
   "metadata": {},
   "source": [
    "- Site Name is qualitative nominal."
   ]
  },
  {
   "cell_type": "markdown",
   "id": "3853382c",
   "metadata": {},
   "source": [
    "Now do the same on the other string columns. Use value_counts() and then classify as binary, ordered or unordered using a markdown comment. As you do each one, stop and look at the values and counts and think about how the data in the column might be useful for supporting the council's initiatives. Don't just treat this as a mechanical copy/paste task. The objective is, after all, to get really intimate with the data!"
   ]
  },
  {
   "cell_type": "markdown",
   "id": "cd68f015",
   "metadata": {},
   "source": [
    "#### Contract Area"
   ]
  },
  {
   "cell_type": "code",
   "execution_count": 18,
   "id": "98216c05",
   "metadata": {},
   "outputs": [
    {
     "data": {
      "text/plain": [
       "Contract Area\n",
       "Highways              10062\n",
       "Housing                7500\n",
       "Parks                  4330\n",
       "Education              1288\n",
       "Corporate Landlord      264\n",
       "Name: count, dtype: int64"
      ]
     },
     "execution_count": 18,
     "metadata": {},
     "output_type": "execute_result"
    }
   ],
   "source": [
    "# List of values in COntract Area column and their counts\n",
    "trees[\"Contract Area\"].value_counts()"
   ]
  },
  {
   "cell_type": "markdown",
   "id": "9e87854c",
   "metadata": {},
   "source": [
    "- Contract Area is qualitative nominal"
   ]
  },
  {
   "cell_type": "markdown",
   "id": "de2fc21e",
   "metadata": {},
   "source": [
    "#### Scientific Name"
   ]
  },
  {
   "cell_type": "code",
   "execution_count": 19,
   "id": "631fc1e0",
   "metadata": {},
   "outputs": [
    {
     "data": {
      "text/plain": [
       "Scientific Name\n",
       "Platanus x hispanica                                 3340\n",
       "Tilia europaea                                       1468\n",
       "Acer pseudoplatanus                                   941\n",
       "Betula pendula                                        765\n",
       "Fraxinus excelsior                                    754\n",
       "                                                     ... \n",
       "Vacant Tree Pit (planned: Populus tremula)              1\n",
       "Liriodendron fastigiata                                 1\n",
       "Sequoia sempervirens                                    1\n",
       "Sorbus x hybrida                                        1\n",
       "Vacant Tree Pit (planned: Acer rubrum 'Amstrong')       1\n",
       "Name: count, Length: 543, dtype: int64"
      ]
     },
     "execution_count": 19,
     "metadata": {},
     "output_type": "execute_result"
    }
   ],
   "source": [
    "# List of values in Scientific Name column and their counts\n",
    "trees[\"Scientific Name\"].value_counts()"
   ]
  },
  {
   "cell_type": "markdown",
   "id": "0c538085",
   "metadata": {},
   "source": [
    "- Scientific Name is qualitative nominal"
   ]
  },
  {
   "cell_type": "markdown",
   "id": "e4b9864e",
   "metadata": {},
   "source": [
    "#### Ward Code"
   ]
  },
  {
   "cell_type": "code",
   "execution_count": 20,
   "id": "a60aedee",
   "metadata": {},
   "outputs": [
    {
     "data": {
      "text/plain": [
       "Ward Name\n",
       "Highgate                          2799\n",
       "St Pancras and Somers Town        1832\n",
       "Gospel Oak                        1541\n",
       "Kilburn                           1540\n",
       "Kentish Town                      1463\n",
       "Haverstock                        1424\n",
       "Hampstead Town                    1340\n",
       "Holborn and Covent Garden         1293\n",
       "Fortune Green                     1284\n",
       "Cantelowes                        1231\n",
       "Frognal and Fitzjohns             1229\n",
       "Bloomsbury                        1008\n",
       "Regent's Park                      989\n",
       "Swiss Cottage                      978\n",
       "Camden Town with Primrose Hill     899\n",
       "West Hampstead                     853\n",
       "King's Cross                       824\n",
       "Belsize                            691\n",
       "Name: count, dtype: int64"
      ]
     },
     "execution_count": 20,
     "metadata": {},
     "output_type": "execute_result"
    }
   ],
   "source": [
    "# List of values in Ward Code column and their counts\n",
    "trees[\"Ward Name\"].value_counts()"
   ]
  },
  {
   "cell_type": "markdown",
   "id": "acef739c",
   "metadata": {},
   "source": [
    "- Ward Code is qualitative nominal"
   ]
  },
  {
   "cell_type": "markdown",
   "id": "ef85c1fa",
   "metadata": {},
   "source": [
    "#### Ward Name"
   ]
  },
  {
   "cell_type": "code",
   "execution_count": 21,
   "id": "c1f09da2",
   "metadata": {},
   "outputs": [
    {
     "data": {
      "text/plain": [
       "Ward Name\n",
       "Highgate                          2799\n",
       "St Pancras and Somers Town        1832\n",
       "Gospel Oak                        1541\n",
       "Kilburn                           1540\n",
       "Kentish Town                      1463\n",
       "Haverstock                        1424\n",
       "Hampstead Town                    1340\n",
       "Holborn and Covent Garden         1293\n",
       "Fortune Green                     1284\n",
       "Cantelowes                        1231\n",
       "Frognal and Fitzjohns             1229\n",
       "Bloomsbury                        1008\n",
       "Regent's Park                      989\n",
       "Swiss Cottage                      978\n",
       "Camden Town with Primrose Hill     899\n",
       "West Hampstead                     853\n",
       "King's Cross                       824\n",
       "Belsize                            691\n",
       "Name: count, dtype: int64"
      ]
     },
     "execution_count": 21,
     "metadata": {},
     "output_type": "execute_result"
    }
   ],
   "source": [
    "# List of values in Ward Name column and their counts\n",
    "trees[\"Ward Name\"].value_counts()"
   ]
  },
  {
   "cell_type": "markdown",
   "id": "c913b57a",
   "metadata": {},
   "source": [
    "- Ward Name is qualitative nominal"
   ]
  },
  {
   "cell_type": "markdown",
   "id": "99778472",
   "metadata": {},
   "source": [
    "#### Inspection Due Date"
   ]
  },
  {
   "cell_type": "code",
   "execution_count": 22,
   "id": "ffe7aa8b",
   "metadata": {},
   "outputs": [
    {
     "data": {
      "text/plain": [
       "Inspection Due Date\n",
       "2022/2023    7921\n",
       "2021/2022    7353\n",
       "2020/2021    6577\n",
       "2019/2020    1157\n",
       "2018/2019      16\n",
       "2017/2018       5\n",
       "2016/2017       4\n",
       "2001/2002       4\n",
       "2003/2004       2\n",
       "2006/2007       1\n",
       "2012/2013       1\n",
       "2013/2014       1\n",
       "2011/2012       1\n",
       "Name: count, dtype: int64"
      ]
     },
     "execution_count": 22,
     "metadata": {},
     "output_type": "execute_result"
    }
   ],
   "source": [
    "# List of values in Inspection Due Date column and their counts\n",
    "trees[\"Inspection Due Date\"].value_counts()"
   ]
  },
  {
   "cell_type": "markdown",
   "id": "d08c48aa",
   "metadata": {},
   "source": [
    "- Inspection Due Date is qualitative ordinal"
   ]
  },
  {
   "cell_type": "markdown",
   "id": "f43a7e7b",
   "metadata": {},
   "source": [
    "### 3.1.b Descriptive Stats for Numeric Type Columns\n",
    "\n",
    "Use the describe() function to get the descriptive stats for the numeric columns.\n",
    "\n",
    "For each column, classify the column as discrete or continuous (use the data type to guide you, but check any floats to confirm whether they are really floats or just ints with null values. Use pandas.Series.unique() to check this).\n",
    "\n",
    "#### Height in Meters"
   ]
  },
  {
   "cell_type": "code",
   "execution_count": 23,
   "id": "e130640c",
   "metadata": {},
   "outputs": [
    {
     "data": {
      "text/plain": [
       "count    23006.000000\n",
       "mean        10.307029\n",
       "std          6.325293\n",
       "min          0.000000\n",
       "25%          5.000000\n",
       "50%          9.000000\n",
       "75%         15.000000\n",
       "max        127.000000\n",
       "Name: Height In Metres, dtype: float64"
      ]
     },
     "execution_count": 23,
     "metadata": {},
     "output_type": "execute_result"
    }
   ],
   "source": [
    "# Get the descriptive stats for the Height In Metres\n",
    "trees['Height In Metres'].describe()"
   ]
  },
  {
   "cell_type": "code",
   "execution_count": 24,
   "id": "ad09f2c2",
   "metadata": {},
   "outputs": [
    {
     "data": {
      "text/plain": [
       "array([  nan,   5. ,   4. ,  14. ,   9. ,   0. ,   2. ,   2.5,   8. ,\n",
       "        13. ,  17. ,  10. ,   3. ,  19. ,   7. ,   6. ,   1.8,  15. ,\n",
       "        12. ,   1.5,  16. ,  20. ,  21. ,  24. ,  25. ,   2.7,  18. ,\n",
       "        11. ,  26. ,  22. ,   0.5,  16.1,  27. ,  28. ,   2.3,  22.3,\n",
       "        38. ,  15.5,  29. ,  23. ,  34. ,   3.5,   2.6,   1. ,   5.5,\n",
       "        22.5,   2.2,  36. ,  31. ,  96. ,  13.6, 127. ,  14.7,   4.5,\n",
       "        30. ,  35. ,  32. ,   9.4,  11.8,  33. ,  40. ,   2.1,   6.5,\n",
       "        41. ,  23.1,  37. ,  39. ,  12.5,   7.5,  13.7,  31.6,  23.8,\n",
       "         0.2,  12.3,  15.7,   6.8,   9.3,   3.8,  24.9,  17.4,   2.8,\n",
       "         3.2,  13.9,  12.4,  10.2,  10.8,  24.5,  30.4,   9.8,  11.4,\n",
       "        23.4,   3.7,  11.6,   7.7,   8.3,   3.6,  17.5,  19.5])"
      ]
     },
     "execution_count": 24,
     "metadata": {},
     "output_type": "execute_result"
    }
   ],
   "source": [
    "#Find out if Height In Metres is really floats or ints with nulls.\n",
    "trees['Height In Metres'].unique()"
   ]
  },
  {
   "cell_type": "markdown",
   "id": "59bda6ec",
   "metadata": {},
   "source": [
    "- Height in Metres is Continuous numerical value, and is float type"
   ]
  },
  {
   "cell_type": "markdown",
   "id": "17f7f8ff",
   "metadata": {},
   "source": [
    "#### Spread In Metres"
   ]
  },
  {
   "cell_type": "code",
   "execution_count": 25,
   "id": "053b803c",
   "metadata": {},
   "outputs": [
    {
     "data": {
      "text/plain": [
       "count    23006.000000\n",
       "mean         5.997612\n",
       "std          4.132379\n",
       "min          0.000000\n",
       "25%          3.000000\n",
       "50%          5.000000\n",
       "75%          8.000000\n",
       "max         88.000000\n",
       "Name: Spread In Metres, dtype: float64"
      ]
     },
     "execution_count": 25,
     "metadata": {},
     "output_type": "execute_result"
    }
   ],
   "source": [
    "# Get the descriptive stats for the Spread In Metres\n",
    "trees['Spread In Metres'].describe()"
   ]
  },
  {
   "cell_type": "code",
   "execution_count": 26,
   "id": "e3931762",
   "metadata": {},
   "outputs": [
    {
     "data": {
      "text/plain": [
       "array([  nan,  4.  ,  1.  ,  6.  ,  7.  ,  0.  ,  1.5 ,  5.  ,  9.  ,\n",
       "       10.  ,  3.  ,  2.  , 13.  ,  2.5 , 12.  , 15.  , 14.  ,  8.  ,\n",
       "       11.  ,  0.6 ,  1.8 , 17.  , 20.  , 18.  , 16.  , 22.  , 19.  ,\n",
       "        5.5 , 26.  ,  1.4 , 23.  , 21.  , 28.  ,  1.2 ,  0.5 ,  3.5 ,\n",
       "       24.  ,  1.3 ,  1.6 , 30.  ,  1.7 , 27.  ,  4.2 , 11.02,  0.7 ,\n",
       "        6.5 ,  4.5 , 31.  , 25.  ,  0.8 ,  0.3 ,  2.2 ,  2.8 ,  1.65,\n",
       "       29.  , 88.  ])"
      ]
     },
     "execution_count": 26,
     "metadata": {},
     "output_type": "execute_result"
    }
   ],
   "source": [
    "#Find out if Spread In Metres is really floats or ints with nulls.\n",
    "trees['Spread In Metres'].unique()"
   ]
  },
  {
   "cell_type": "markdown",
   "id": "e5911aac",
   "metadata": {},
   "source": [
    "- Spread in Metres is Continuous numerical value, and is float type"
   ]
  },
  {
   "cell_type": "markdown",
   "id": "06313a5f",
   "metadata": {},
   "source": [
    "#### Diameter in Centimeters"
   ]
  },
  {
   "cell_type": "code",
   "execution_count": 27,
   "id": "ef6bb2a7",
   "metadata": {},
   "outputs": [
    {
     "data": {
      "text/plain": [
       "count    23005.000000\n",
       "mean        32.595262\n",
       "std         26.149994\n",
       "min          0.000000\n",
       "25%         12.000000\n",
       "50%         27.000000\n",
       "75%         46.000000\n",
       "max        228.000000\n",
       "Name: Diameter In Centimetres At Breast Height, dtype: float64"
      ]
     },
     "execution_count": 27,
     "metadata": {},
     "output_type": "execute_result"
    }
   ],
   "source": [
    "# Get the descriptive stats for the Diameter In Centimetres\n",
    "trees['Diameter In Centimetres At Breast Height'].describe()"
   ]
  },
  {
   "cell_type": "code",
   "execution_count": 28,
   "id": "5a48eeb0",
   "metadata": {},
   "outputs": [
    {
     "data": {
      "text/plain": [
       "array([  nan,  10. ,   6. ,  26. ,  29. ,   5. ,   0. ,   4. ,  12. ,\n",
       "        59. ,  52. ,  23. ,  50. ,  63. ,  15. ,   3. ,  49. ,  42. ,\n",
       "        14. ,  19. ,   9. ,  70. ,  32. ,  28. ,  34. ,  20. ,  17. ,\n",
       "        27. ,  37. ,   8. ,  45. ,  18. , 119. ,   7. ,  38. ,  55. ,\n",
       "        41. ,  75. ,  31. ,  25. ,  11. ,  30. ,  43. ,  68. ,  92. ,\n",
       "        16. ,  35. ,  58. ,  72. ,  64. ,  13. ,  61. ,  69. ,  33. ,\n",
       "        47. ,  67. , 109. , 106. ,  24. ,  51. ,  40. ,  22. ,  60. ,\n",
       "        39. ,  46. ,  57. ,  21. ,  54. , 117. ,  44. ,  82. , 114. ,\n",
       "        65. ,  84. , 118. ,   1. ,  89. ,  53. ,  36. ,  93. ,  88. ,\n",
       "        86. , 163. ,  66. ,  81. ,  74. , 100. ,  48. ,  73. ,  95. ,\n",
       "       129. ,  62. ,  85. ,  56. ,   3.5, 161. ,  71. , 105. , 102. ,\n",
       "        80. ,  87. , 101. ,  76. , 113. , 108. , 160. , 132. ,  90. ,\n",
       "       145. , 130. ,  79. , 228. , 110. ,  83. ,  78. , 122. , 170. ,\n",
       "       115. ,   2. ,  77. , 107. ,  96. , 126. ,  91. , 104. , 158. ,\n",
       "        99. ,  94. ,  16.5, 127. , 151. , 103. , 112. ,  98. ,  97. ,\n",
       "       136. , 125. , 111. , 124. , 139. , 156. , 120. , 148. , 144. ,\n",
       "       140. , 121. , 143. ,  17.5, 154. , 159. , 142. , 197. , 123. ,\n",
       "       149. , 155. , 191. , 131. , 147. , 162. , 116. , 152. , 153. ,\n",
       "       165. , 137. , 200. , 177. , 133. , 128. , 134. ,  11.5, 135. ,\n",
       "       150. , 187. , 210. , 166. , 138. ,  10.5, 206. , 141. , 209. ,\n",
       "       184. , 173. , 192. ,   7.5, 194. , 157. , 146. , 185. ])"
      ]
     },
     "execution_count": 28,
     "metadata": {},
     "output_type": "execute_result"
    }
   ],
   "source": [
    "#Find out if Diameter In Centimetres At Breast Height is really floats or ints with nulls.\n",
    "trees['Diameter In Centimetres At Breast Height'].unique()"
   ]
  },
  {
   "cell_type": "markdown",
   "id": "9647fa43",
   "metadata": {},
   "source": [
    "- Diameter in centimeters is Continuous numerical value ,and is float type"
   ]
  },
  {
   "cell_type": "markdown",
   "id": "c25d60b6",
   "metadata": {},
   "source": [
    "#### Northing"
   ]
  },
  {
   "cell_type": "code",
   "execution_count": 29,
   "id": "9ea67380",
   "metadata": {},
   "outputs": [
    {
     "data": {
      "text/plain": [
       "count     23444.000000\n",
       "mean     184085.188662\n",
       "std        9121.059755\n",
       "min           0.000000\n",
       "25%      183665.000000\n",
       "50%      184690.000000\n",
       "75%      185481.000000\n",
       "max      196188.000000\n",
       "Name: Northing, dtype: float64"
      ]
     },
     "execution_count": 29,
     "metadata": {},
     "output_type": "execute_result"
    }
   ],
   "source": [
    "# Get the descriptive stats for the Northing\n",
    "trees['Northing'].describe()"
   ]
  },
  {
   "cell_type": "code",
   "execution_count": 30,
   "id": "aba0ebed",
   "metadata": {},
   "outputs": [
    {
     "data": {
      "text/plain": [
       "array([185240, 184782,      0, ..., 185755, 187062, 187313], dtype=int64)"
      ]
     },
     "execution_count": 30,
     "metadata": {},
     "output_type": "execute_result"
    }
   ],
   "source": [
    "#Find out if Northing is really floats or ints with nulls.\n",
    "trees['Northing'].unique()"
   ]
  },
  {
   "cell_type": "markdown",
   "id": "4c122807",
   "metadata": {},
   "source": [
    "- Northing is Discrete numerical value, and is integer type"
   ]
  },
  {
   "cell_type": "markdown",
   "id": "73dcf4d0",
   "metadata": {},
   "source": [
    "#### Easting"
   ]
  },
  {
   "cell_type": "code",
   "execution_count": 31,
   "id": "417aa6e6",
   "metadata": {},
   "outputs": [
    {
     "data": {
      "text/plain": [
       "count     23444.000000\n",
       "mean     526762.518171\n",
       "std       25835.857212\n",
       "min           0.000000\n",
       "25%      526583.750000\n",
       "50%      528456.500000\n",
       "75%      529369.000000\n",
       "max      531514.000000\n",
       "Name: Easting, dtype: float64"
      ]
     },
     "execution_count": 31,
     "metadata": {},
     "output_type": "execute_result"
    }
   ],
   "source": [
    "# Get the descriptive stats for the Easting\n",
    "trees['Easting'].describe()"
   ]
  },
  {
   "cell_type": "code",
   "execution_count": 32,
   "id": "a542ad4a",
   "metadata": {},
   "outputs": [
    {
     "data": {
      "text/plain": [
       "array([527305, 529923,      0, ..., 527733, 524398, 525944], dtype=int64)"
      ]
     },
     "execution_count": 32,
     "metadata": {},
     "output_type": "execute_result"
    }
   ],
   "source": [
    "#Find out if Northing is really floats or ints with nulls.\n",
    "trees['Easting'].unique()"
   ]
  },
  {
   "cell_type": "markdown",
   "id": "9aed9c4b",
   "metadata": {},
   "source": [
    "- Easting is Discrete numerical value, and is integer type"
   ]
  },
  {
   "cell_type": "markdown",
   "id": "08ab68c5",
   "metadata": {},
   "source": [
    "#### Latitude"
   ]
  },
  {
   "cell_type": "code",
   "execution_count": 33,
   "id": "27e5a294",
   "metadata": {},
   "outputs": [
    {
     "data": {
      "text/plain": [
       "count    23388.000000\n",
       "mean        51.545115\n",
       "std          0.013067\n",
       "min         51.512858\n",
       "25%         51.537472\n",
       "50%         51.546669\n",
       "75%         51.554032\n",
       "max         51.650843\n",
       "Name: Latitude, dtype: float64"
      ]
     },
     "execution_count": 33,
     "metadata": {},
     "output_type": "execute_result"
    }
   ],
   "source": [
    "# Get the descriptive stats for the Latitude\n",
    "trees['Latitude'].describe()"
   ]
  },
  {
   "cell_type": "code",
   "execution_count": 34,
   "id": "63149226",
   "metadata": {},
   "outputs": [
    {
     "data": {
      "text/plain": [
       "array([51.551693, 51.546984,       nan, ..., 51.54329 , 51.545726,\n",
       "       51.531863])"
      ]
     },
     "execution_count": 34,
     "metadata": {},
     "output_type": "execute_result"
    }
   ],
   "source": [
    "#Find out if Latitude is really floats or ints with nulls.\n",
    "trees['Latitude'].unique()"
   ]
  },
  {
   "cell_type": "markdown",
   "id": "11e619e0",
   "metadata": {},
   "source": [
    "- Latitude is Continuous numerical value, and is float type"
   ]
  },
  {
   "cell_type": "markdown",
   "id": "5da26e24",
   "metadata": {},
   "source": [
    "#### Longitude"
   ]
  },
  {
   "cell_type": "code",
   "execution_count": 35,
   "id": "1771de8d",
   "metadata": {},
   "outputs": [
    {
     "data": {
      "text/plain": [
       "count    23388.000000\n",
       "mean        -0.155145\n",
       "std          0.025058\n",
       "min         -0.261719\n",
       "25%         -0.175734\n",
       "50%         -0.148478\n",
       "75%         -0.135978\n",
       "max         -0.105858\n",
       "Name: Longitude, dtype: float64"
      ]
     },
     "execution_count": 35,
     "metadata": {},
     "output_type": "execute_result"
    }
   ],
   "source": [
    "# Get the descriptive stats for the Longitude\n",
    "trees['Longitude'].describe()"
   ]
  },
  {
   "cell_type": "code",
   "execution_count": 36,
   "id": "dc29ae87",
   "metadata": {},
   "outputs": [
    {
     "data": {
      "text/plain": [
       "array([-0.16524 , -0.127681,       nan, ..., -0.196884, -0.204206,\n",
       "       -0.173397])"
      ]
     },
     "execution_count": 36,
     "metadata": {},
     "output_type": "execute_result"
    }
   ],
   "source": [
    "#Find out if Longitude is really floats or ints with nulls.\n",
    "trees['Longitude'].unique()"
   ]
  },
  {
   "cell_type": "markdown",
   "id": "bce74969",
   "metadata": {},
   "source": [
    "- Longitude is Continuous numerical value, and is float type"
   ]
  },
  {
   "cell_type": "markdown",
   "id": "f75ba383",
   "metadata": {},
   "source": [
    "#### Classify the columns as Discrete or Continuous\n",
    "#### Discrete\n",
    "- Number of Trees,\n",
    "- Easting,\n",
    "- Northing\n",
    "\n",
    "#### Continuous\n",
    "- Height In Metres\n",
    "- Spread In Metres\n",
    "- Diameter In Centimetres At Breast Height\n",
    "- Latitude \n",
    "- Longitude"
   ]
  },
  {
   "cell_type": "markdown",
   "id": "12eca817",
   "metadata": {},
   "source": [
    "## 3.2 Further Inspect the Environmental Dataset\n",
    "\n",
    "Now repeat the above for the environmental dataset.\n",
    "\n",
    "### 3.2.a Counts of Values for String Types Columns\n",
    "\n",
    "For each string column in the environmental dataset show the counts of the unique values.\n",
    "\n",
    "#### Identifier"
   ]
  },
  {
   "cell_type": "code",
   "execution_count": 37,
   "id": "64b69f36",
   "metadata": {},
   "outputs": [
    {
     "data": {
      "text/plain": [
       "Identifier\n",
       "55125    1\n",
       "1681     1\n",
       "8539     1\n",
       "19552    1\n",
       "32062    1\n",
       "        ..\n",
       "13724    1\n",
       "5978     1\n",
       "17336    1\n",
       "14229    1\n",
       "1786     1\n",
       "Name: count, Length: 23415, dtype: int64"
      ]
     },
     "execution_count": 37,
     "metadata": {},
     "output_type": "execute_result"
    }
   ],
   "source": [
    "# List of values in Identifier column and their counts\n",
    "environmental['Identifier'].value_counts()"
   ]
  },
  {
   "cell_type": "markdown",
   "id": "7c82986e",
   "metadata": {},
   "source": [
    "- Identifier is qualiative nominal"
   ]
  },
  {
   "cell_type": "markdown",
   "id": "f8f8137b",
   "metadata": {},
   "source": [
    "#### Maturity"
   ]
  },
  {
   "cell_type": "code",
   "execution_count": 38,
   "id": "e89e4f96",
   "metadata": {},
   "outputs": [
    {
     "data": {
      "text/plain": [
       "Maturity\n",
       "Mature            10225\n",
       "Middle aged        7779\n",
       "Juvenile           4393\n",
       "Not Applicable      377\n",
       "Over Mature         191\n",
       "Veteran              41\n",
       "Name: count, dtype: int64"
      ]
     },
     "execution_count": 38,
     "metadata": {},
     "output_type": "execute_result"
    }
   ],
   "source": [
    "# List of values in Maturity column and their counts\n",
    "environmental['Maturity'].value_counts()"
   ]
  },
  {
   "cell_type": "markdown",
   "id": "a7c25e56",
   "metadata": {},
   "source": [
    "- Maturity is qualitative ordinal"
   ]
  },
  {
   "cell_type": "markdown",
   "id": "c008fb1d",
   "metadata": {},
   "source": [
    "#### Physiological Condition"
   ]
  },
  {
   "cell_type": "code",
   "execution_count": 39,
   "id": "9d7a70f8",
   "metadata": {},
   "outputs": [
    {
     "data": {
      "text/plain": [
       "Physiological Condition\n",
       "Good              12910\n",
       "Fair               9183\n",
       "Poor                357\n",
       "Not applicable      249\n",
       "Dead                236\n",
       "Excellent             8\n",
       "Name: count, dtype: int64"
      ]
     },
     "execution_count": 39,
     "metadata": {},
     "output_type": "execute_result"
    }
   ],
   "source": [
    "# List of values in Physiological Condition column and their counts\n",
    "environmental['Physiological Condition'].value_counts()"
   ]
  },
  {
   "cell_type": "markdown",
   "id": "ba4dba96",
   "metadata": {},
   "source": [
    "- Physiological Condition is qualitative ordinal"
   ]
  },
  {
   "cell_type": "markdown",
   "id": "0071b124",
   "metadata": {},
   "source": [
    "#### Tree Set To Be Removed"
   ]
  },
  {
   "cell_type": "code",
   "execution_count": 40,
   "id": "83652656",
   "metadata": {},
   "outputs": [
    {
     "data": {
      "text/plain": [
       "Tree Set To Be Removed\n",
       "No     23331\n",
       "Yes       84\n",
       "Name: count, dtype: int64"
      ]
     },
     "execution_count": 40,
     "metadata": {},
     "output_type": "execute_result"
    }
   ],
   "source": [
    "# List of values in Tree Set To Be Removed column and their counts\n",
    "environmental['Tree Set To Be Removed'].value_counts()"
   ]
  },
  {
   "cell_type": "markdown",
   "id": "bfc7fada",
   "metadata": {},
   "source": [
    "- Tree Set To Be Removed is Qualitative Binary"
   ]
  },
  {
   "cell_type": "markdown",
   "id": "01009416",
   "metadata": {},
   "source": [
    "#### Removal Reason"
   ]
  },
  {
   "cell_type": "code",
   "execution_count": 41,
   "id": "ae18cb06",
   "metadata": {},
   "outputs": [
    {
     "data": {
      "text/plain": [
       "Removal Reason\n",
       "Dead, dying                    30\n",
       "Basal decay                    17\n",
       "Trunk decay                    10\n",
       "Tree defect                     5\n",
       "Crown die-back                  5\n",
       "Dog damage                      3\n",
       "Unsuitable location             3\n",
       "Newly planted tree failure      2\n",
       "Coppiced stump                  1\n",
       "Touching building/structure     1\n",
       "Crown decay                     1\n",
       "Split trunk                     1\n",
       "Broken/split branch             1\n",
       "Climber                         1\n",
       "No defects - work required      1\n",
       "Suppressed                      1\n",
       "ATRD                            1\n",
       "Name: count, dtype: int64"
      ]
     },
     "execution_count": 41,
     "metadata": {},
     "output_type": "execute_result"
    }
   ],
   "source": [
    "# List of values in Removal Reason column and their counts\n",
    "environmental['Removal Reason'].value_counts()"
   ]
  },
  {
   "cell_type": "markdown",
   "id": "964fdd65",
   "metadata": {},
   "source": [
    "- Removal Reason is Qualitative Nominal"
   ]
  },
  {
   "cell_type": "markdown",
   "id": "85398894",
   "metadata": {},
   "source": [
    "### 3.2.b Descriptive Stats for Numeric Type Columns\n",
    "\n",
    "For each numeric column in the environmental dataset show the descriptive stats\n",
    "\n",
    "#### Capital Asset Value For Amenity Trees"
   ]
  },
  {
   "cell_type": "code",
   "execution_count": 42,
   "id": "2cd0816d",
   "metadata": {},
   "outputs": [
    {
     "data": {
      "text/plain": [
       "count     22982.000000\n",
       "mean      14056.393047\n",
       "std       24803.806595\n",
       "min           0.000000\n",
       "25%        1035.650000\n",
       "50%        5443.660000\n",
       "75%       16781.420000\n",
       "max      504725.720000\n",
       "Name: Capital Asset Value For Amenity Trees, dtype: float64"
      ]
     },
     "execution_count": 42,
     "metadata": {},
     "output_type": "execute_result"
    }
   ],
   "source": [
    "# Get the descriptive stats for the Capital Asset Value For Amenity Trees\n",
    "environmental['Capital Asset Value For Amenity Trees'].describe()"
   ]
  },
  {
   "cell_type": "markdown",
   "id": "f24943f2",
   "metadata": {},
   "source": [
    "Find out if floats are really floats or ints with nulls."
   ]
  },
  {
   "cell_type": "code",
   "execution_count": 43,
   "id": "234742af",
   "metadata": {},
   "outputs": [
    {
     "data": {
      "text/plain": [
       "array([1.1507000e+02, 7.5180800e+03, 2.0419630e+04, ..., 3.3664130e+04,\n",
       "       3.6269450e+04, 1.4801215e+05])"
      ]
     },
     "execution_count": 43,
     "metadata": {},
     "output_type": "execute_result"
    }
   ],
   "source": [
    "#Find out if Capital Asset Value For Amenity Trees is really floats or ints with nulls.\n",
    "environmental['Capital Asset Value For Amenity Trees'].unique()"
   ]
  },
  {
   "cell_type": "markdown",
   "id": "496b555f",
   "metadata": {},
   "source": [
    "- Capital Asset Value For Amenity Trees is Continuous numerical Value, and is float type"
   ]
  },
  {
   "cell_type": "markdown",
   "id": "b203ad3e",
   "metadata": {},
   "source": [
    "#### Carbon Storage In Kilograms"
   ]
  },
  {
   "cell_type": "code",
   "execution_count": 44,
   "id": "da528b52",
   "metadata": {},
   "outputs": [
    {
     "data": {
      "text/plain": [
       "count    20555.000000\n",
       "mean       467.465454\n",
       "std        844.926555\n",
       "min          0.500000\n",
       "25%         24.800000\n",
       "50%        163.900000\n",
       "75%        497.300000\n",
       "max       6000.000000\n",
       "Name: Carbon Storage In Kilograms, dtype: float64"
      ]
     },
     "execution_count": 44,
     "metadata": {},
     "output_type": "execute_result"
    }
   ],
   "source": [
    "# Get the descriptive stats for the Carbon Storage In Kilograms\n",
    "environmental['Carbon Storage In Kilograms'].describe()"
   ]
  },
  {
   "cell_type": "code",
   "execution_count": 45,
   "id": "b36b1242",
   "metadata": {},
   "outputs": [
    {
     "data": {
      "text/plain": [
       "array([1.6000e+00,        nan, 4.2640e+02, ..., 4.7233e+03, 3.7305e+03,\n",
       "       4.8100e+02])"
      ]
     },
     "execution_count": 45,
     "metadata": {},
     "output_type": "execute_result"
    }
   ],
   "source": [
    "# Find out if Carbon Storage In Kilograms is really floats or ints with nulls.\n",
    "environmental['Carbon Storage In Kilograms'].unique()"
   ]
  },
  {
   "cell_type": "markdown",
   "id": "90eecfa8",
   "metadata": {},
   "source": [
    "- Carbon Storage In Kilograms is Continuous Numerical Value, and is float type"
   ]
  },
  {
   "cell_type": "markdown",
   "id": "bbce86c6",
   "metadata": {},
   "source": [
    "#### Gross Carbon Sequestration Per Year In Kilograms"
   ]
  },
  {
   "cell_type": "code",
   "execution_count": 46,
   "id": "f5ae8dea",
   "metadata": {},
   "outputs": [
    {
     "data": {
      "text/plain": [
       "count    20555.000000\n",
       "mean         8.675057\n",
       "std          8.681446\n",
       "min          0.000000\n",
       "25%          2.200000\n",
       "50%          6.100000\n",
       "75%         11.700000\n",
       "max         53.800000\n",
       "Name: Gross Carbon Sequestration Per Year In Kilograms, dtype: float64"
      ]
     },
     "execution_count": 46,
     "metadata": {},
     "output_type": "execute_result"
    }
   ],
   "source": [
    "# Get the descriptive stats for the Gross Carbon Sequestration Per Year In Kilograms\n",
    "environmental['Gross Carbon Sequestration Per Year In Kilograms'].describe()"
   ]
  },
  {
   "cell_type": "code",
   "execution_count": 47,
   "id": "0a8ad1e7",
   "metadata": {},
   "outputs": [
    {
     "data": {
      "text/plain": [
       "array([ 0.5,  nan,  8.8,  9.6,  1.4, 10.1,  0.8,  7.9, 24.2,  2.4,  0.9,\n",
       "        3. , 14.6,  8.1,  4.1,  1.8, 18.8, 24.4, 13.4,  4.3,  6.5,  1.3,\n",
       "        0.6,  2.5, 13.1,  2.1,  3.9, 15.9,  1. ,  6.6,  0.4,  3.4,  2.9,\n",
       "       28.7,  0.7,  1.5, 12.5, 25.4, 11.2,  9. , 23.9,  4.4, 11.5, 11. ,\n",
       "        8.4, 10.9, 10.7,  6.9,  7. ,  3.8,  3.2,  6.1,  8.6, 30.2,  3.7,\n",
       "       15. , 30.4,  7.6, 20.1, 10.2,  8.3, 39.9,  0.3,  4.9, 14.3, 13.5,\n",
       "       16.7,  8.9,  1.6,  4.2,  3.6,  4. ,  6.7,  0.1, 19.7, 24.6,  6.4,\n",
       "        5.4,  5.9, 12.2,  7.3, 13. ,  7.1, 36.9,  9.3, 18.2, 10. ,  4.7,\n",
       "        5. , 29.8, 17.8, 18.5, 17.6,  7.2,  4.8,  5.6,  5.3, 10.5, 12.9,\n",
       "        9.4,  7.8,  1.1, 19.2, 37.3,  2.7, 12.8, 17. , 15.5, 27.6, 34.2,\n",
       "        5.7,  5.8, 17.3, 20.4,  9.9, 15.6,  7.4, 11.8,  9.2,  2.6, 21.7,\n",
       "       11.3, 10.8, 29.4, 23.1, 26.5,  1.2, 10.6, 33.6, 23.6, 11.7, 17.4,\n",
       "       15.1, 16.6,  2.3, 13.3, 16.3, 18.3, 10.4, 19. ,  1.7,  3.3, 14.1,\n",
       "        5.5, 12.6, 14.5,  3.5,  8.7, 36.6, 17.7,  5.1, 21.1, 20.2,  7.7,\n",
       "       15.2,  7.5, 30.5, 13.8,  4.6, 39.2, 37.8, 13.2, 51. , 11.6,  6.8,\n",
       "       21. ,  5.2,  8. ,  4.5, 15.3, 13.7, 18. ,  6.3,  2. ,  2.8,  9.1,\n",
       "        6. , 12.4, 11.4, 18.6,  1.9, 23.5, 18.9, 26.2, 12.1, 41.7,  2.2,\n",
       "       14.7, 14.4,  9.7, 23. , 22.1, 15.7, 12. , 14.8, 19.9, 29.7, 11.1,\n",
       "       19.6, 12.7, 31.9, 33.2, 19.1,  6.2, 28.4, 27. , 17.5, 16.4, 27.7,\n",
       "       38.4, 43.9, 35.4,  8.2, 37.1, 29.5, 22.2, 17.1, 26.3, 21.2, 20.5,\n",
       "       11.9, 31.3, 14.2,  8.5, 26.8,  0.2, 16.8, 35.6, 20.8, 22.3, 19.4,\n",
       "       20. , 14. , 36.1, 20.9, 15.8, 14.9,  9.5, 28.3, 16.9,  3.1, 37.6,\n",
       "       34.7, 17.9, 35.3,  9.8, 16.5, 21.4, 19.3, 28.5, 29. , 33.5, 40.7,\n",
       "       28.6, 13.6, 27.1, 26.7, 13.9, 21.3, 23.8, 35.1, 40.5, 32.9, 18.1,\n",
       "       37. , 20.6, 35.2, 12.3, 41.8, 22.7, 21.5, 35.7, 32.4, 16.1, 31.1,\n",
       "       25.3, 26. , 23.4, 30.1, 42.1, 36.5, 10.3, 44.3, 16. , 23.2, 28.8,\n",
       "       21.9, 32. , 30.3, 15.4, 24.3, 26.9, 25.8, 28.2, 22.8, 42.3, 33.9,\n",
       "       25.6, 38.6, 18.4, 31.2, 32.7, 28. , 30.6, 42. , 27.3, 33.8, 21.6,\n",
       "       33.3, 35.9, 24. , 40.6, 42.7, 31.5, 22.5, 20.7, 33.1, 35.5, 27.5,\n",
       "       24.8, 26.4, 22.6, 18.7, 32.6, 36.4, 16.2, 38.5, 22.4, 22.9, 29.2,\n",
       "       25.9, 19.5, 24.5, 20.3, 27.9, 29.6, 25. , 27.4, 30.7, 25.1, 34.6,\n",
       "       38. , 34.4, 36.7, 34.1, 32.5, 27.8, 32.8, 43.1, 17.2, 37.5, 39.3,\n",
       "       29.1, 30.8, 34.8, 29.9, 38.3, 23.3, 21.8, 41.3, 38.7, 36.3, 30. ,\n",
       "       41.5, 37.2, 24.9, 19.8, 28.9, 42.2, 39.5, 31.8, 37.4, 24.1,  0. ,\n",
       "       37.7, 32.3, 36.8, 27.2, 24.7, 36.2, 39.7, 42.9, 49.5, 31.6, 38.9,\n",
       "       40.9, 44.2, 32.1, 42.5, 25.7, 35.8, 38.2, 40.8, 35. , 34. , 31.7,\n",
       "       40.1, 26.1, 25.2, 39. , 41.1, 33.4, 32.2, 43.3, 33.7, 26.6, 39.1,\n",
       "       41.4, 43.2, 31. , 41.9, 41. , 42.4, 43. , 40.3, 40.2, 29.3, 31.4,\n",
       "       22. , 42.8, 43.7, 23.7, 34.5, 41.6, 39.6, 39.8, 37.9, 43.8, 42.6,\n",
       "       41.2, 43.6, 36. , 39.4, 43.5, 25.5, 38.1, 34.9, 28.1, 43.4, 53.8,\n",
       "       30.9, 40.4, 34.3, 45.5, 52.7, 40. , 38.8, 44.9, 33. ])"
      ]
     },
     "execution_count": 47,
     "metadata": {},
     "output_type": "execute_result"
    }
   ],
   "source": [
    "# Find out if Gross Carbon Sequestration Per Year In Kilograms is really floats or ints with nulls.\n",
    "environmental['Gross Carbon Sequestration Per Year In Kilograms'].unique()"
   ]
  },
  {
   "cell_type": "markdown",
   "id": "79cca18f",
   "metadata": {},
   "source": [
    "- Gross Carbon Sequestration Per Year In Kilograms is Continuous Numerical Value, and is float type"
   ]
  },
  {
   "cell_type": "markdown",
   "id": "c6077eda",
   "metadata": {},
   "source": [
    "#### Pollution Removal Per Year In Grams"
   ]
  },
  {
   "cell_type": "code",
   "execution_count": 48,
   "id": "6876452d",
   "metadata": {},
   "outputs": [
    {
     "data": {
      "text/plain": [
       "count    20555.000000\n",
       "mean       217.740316\n",
       "std        306.751920\n",
       "min          0.300000\n",
       "25%         29.300000\n",
       "50%        108.100000\n",
       "75%        297.600000\n",
       "max       8223.700000\n",
       "Name: Pollution Removal Per Year In Grams, dtype: float64"
      ]
     },
     "execution_count": 48,
     "metadata": {},
     "output_type": "execute_result"
    }
   ],
   "source": [
    "# Get the descriptive stats for the Pollution Removal Per Year In Grams\n",
    "environmental['Pollution Removal Per Year In Grams'].describe()"
   ]
  },
  {
   "cell_type": "code",
   "execution_count": 49,
   "id": "1c91dd82",
   "metadata": {},
   "outputs": [
    {
     "data": {
      "text/plain": [
       "array([  5.7,   nan, 215.2, ...,   8. , 399.9,  60.1])"
      ]
     },
     "execution_count": 49,
     "metadata": {},
     "output_type": "execute_result"
    }
   ],
   "source": [
    "# Find out if Pollution Removal Per Year In Grams is really floats or ints with nulls.\n",
    "environmental['Pollution Removal Per Year In Grams'].unique()"
   ]
  },
  {
   "cell_type": "markdown",
   "id": "edddd7d1",
   "metadata": {},
   "source": [
    "- Pollution Removal Per Year In Grams is Continuous Numerical Value, and is float type"
   ]
  },
  {
   "cell_type": "markdown",
   "id": "22e52711",
   "metadata": {},
   "source": [
    "#### Classify the columns as Discrete or Continuous\n",
    "#### Discrete\n",
    "- No discrete Columns\n",
    "\n",
    "#### Continuous\n",
    "- Capital Asset Value For Amenity Trees\n",
    "- Carbon Storage In Kilograms,\n",
    "- Pollution Removal Per Year In Grams and \n",
    "- Gross Carbon Sequestration Per Year In Kilograms"
   ]
  },
  {
   "cell_type": "markdown",
   "id": "0170c65a",
   "metadata": {},
   "source": [
    "## 3.3 Further Inspect the Names Dataset\n",
    "\n",
    "Now repeat the above for the common names dataset.\n",
    "\n",
    "### 3.3.a Counts of Values for String Types Columns\n",
    "\n",
    "For each string column in the common names dataset show the counts of the unique values.\n",
    "\n",
    "#### Scientific Name"
   ]
  },
  {
   "cell_type": "code",
   "execution_count": 50,
   "id": "a35331cf",
   "metadata": {},
   "outputs": [
    {
     "data": {
      "text/plain": [
       "Scientific Name\n",
       "Cupressocyparis leylandii                             2\n",
       "Larix decidua                                         2\n",
       "Salix fragilis                                        2\n",
       "Alnus cordata                                         2\n",
       "Populus nigra                                         2\n",
       "                                                     ..\n",
       "Pyrus salicifolia 'Pendula'                           1\n",
       "Chamaecyparis lawsoniana 'unid                        1\n",
       "Platanus x hispanica Tremonia                         1\n",
       "Vacant Tree Pit (planned: Gymnocladus dioicus)        1\n",
       "Vacant Tree Pit (planned: Liquidambar styraciflua)    1\n",
       "Name: count, Length: 560, dtype: int64"
      ]
     },
     "execution_count": 50,
     "metadata": {},
     "output_type": "execute_result"
    }
   ],
   "source": [
    "# List of values in Scientific Name column and their counts\n",
    "names['Scientific Name'].value_counts()"
   ]
  },
  {
   "cell_type": "markdown",
   "id": "9ec6d2b4",
   "metadata": {},
   "source": [
    "- Scientific Name is qualitative nominal."
   ]
  },
  {
   "cell_type": "markdown",
   "id": "5a64c5f1",
   "metadata": {},
   "source": [
    "#### Common Name"
   ]
  },
  {
   "cell_type": "code",
   "execution_count": 51,
   "id": "96e69ad7",
   "metadata": {},
   "outputs": [
    {
     "data": {
      "text/plain": [
       "Common Name\n",
       "Cherry                         12\n",
       "Rowan                          10\n",
       "Magnolia                       10\n",
       "Vacant Tree Pit (planned: )    10\n",
       "Apple - Crab                    9\n",
       "                               ..\n",
       "Pittosporum                     1\n",
       "Birch - Purple                  1\n",
       "Maple - Column Norway           1\n",
       "Maple - Crimson King Norway     1\n",
       "Castlewellan gold               1\n",
       "Name: count, Length: 431, dtype: int64"
      ]
     },
     "execution_count": 51,
     "metadata": {},
     "output_type": "execute_result"
    }
   ],
   "source": [
    "# List of values in Common Name column and their counts\n",
    "names['Common Name'].value_counts()"
   ]
  },
  {
   "cell_type": "markdown",
   "id": "a60db466",
   "metadata": {},
   "source": [
    "- Common Name is qualitative nominal."
   ]
  },
  {
   "cell_type": "markdown",
   "id": "e1de4a21",
   "metadata": {},
   "source": [
    "### 3.3.b (Names) Descriptive Stats for Numeric Type Columns\n",
    "- There are no numeric columns."
   ]
  },
  {
   "cell_type": "markdown",
   "id": "1fac8b3f",
   "metadata": {},
   "source": [
    "# Task 4: Identify Missing Values\n",
    "\n",
    "Find the number of missing values in each column. Missing values can indicate data quality issues. Missing are nulls in our data. But sometimes zero values indicate missing values. For example, a zero value for a tree height is clearly not a valid valid, so should be considered missing.\n",
    "\n",
    "Use these functions to find rows that have missing and zero values:\n",
    "\n",
    "- pandas.DataFrame.isnull\n",
    "- pandas.DataFrame.isin\n",
    "- pandas.DataFrame.mean\n",
    "- pandas.DataFrame.sum\n",
    "\n",
    "As you go through this task, think about the possible impact of the missing values on the ability of the data to deliver on the council's initiatives. There is no absolute answer to \"how many missing values is too many\". It depends on the context of what you intend to do with the data. Try to make an interpretation based on your understanding of the requirements.\n",
    "\n",
    "### 4.1 Missing Values for the Trees Dataset"
   ]
  },
  {
   "cell_type": "markdown",
   "id": "e08bbfab",
   "metadata": {},
   "source": [
    "I've shown you how to do this for the trees dataset."
   ]
  },
  {
   "cell_type": "code",
   "execution_count": 52,
   "id": "09c019bc",
   "metadata": {},
   "outputs": [
    {
     "data": {
      "text/plain": [
       "Identifier                                  0.000000\n",
       "Number Of Trees                             0.093841\n",
       "Site Name                                   0.000000\n",
       "Contract Area                               0.000000\n",
       "Scientific Name                             0.000000\n",
       "Inspection Date                             1.710459\n",
       "Inspection Due Date                         1.710459\n",
       "Height In Metres                            1.868282\n",
       "Spread In Metres                            1.868282\n",
       "Diameter In Centimetres At Breast Height    1.872547\n",
       "Ward Code                                   0.963999\n",
       "Ward Name                                   0.963999\n",
       "Easting                                     0.000000\n",
       "Northing                                    0.000000\n",
       "Longitude                                   0.238867\n",
       "Latitude                                    0.238867\n",
       "Location                                    0.238867\n",
       "dtype: float64"
      ]
     },
     "execution_count": 52,
     "metadata": {},
     "output_type": "execute_result"
    }
   ],
   "source": [
    "# Percentage of null values\n",
    "trees.isnull().mean()*100"
   ]
  },
  {
   "cell_type": "code",
   "execution_count": 53,
   "id": "8b6ff239",
   "metadata": {},
   "outputs": [
    {
     "data": {
      "text/plain": [
       "Identifier                                    0\n",
       "Number Of Trees                              22\n",
       "Site Name                                     0\n",
       "Contract Area                                 0\n",
       "Scientific Name                               0\n",
       "Inspection Date                             401\n",
       "Inspection Due Date                         401\n",
       "Height In Metres                            438\n",
       "Spread In Metres                            438\n",
       "Diameter In Centimetres At Breast Height    439\n",
       "Ward Code                                   226\n",
       "Ward Name                                   226\n",
       "Easting                                       0\n",
       "Northing                                      0\n",
       "Longitude                                    56\n",
       "Latitude                                     56\n",
       "Location                                     56\n",
       "dtype: int64"
      ]
     },
     "execution_count": 53,
     "metadata": {},
     "output_type": "execute_result"
    }
   ],
   "source": [
    "# Number of null values\n",
    "trees.isnull().sum()"
   ]
  },
  {
   "cell_type": "code",
   "execution_count": 54,
   "id": "29fd18e5",
   "metadata": {},
   "outputs": [
    {
     "data": {
      "text/plain": [
       "Identifier                                  0.000000\n",
       "Number Of Trees                             0.396690\n",
       "Site Name                                   0.000000\n",
       "Contract Area                               0.000000\n",
       "Scientific Name                             0.000000\n",
       "Inspection Date                             0.000000\n",
       "Inspection Due Date                         0.000000\n",
       "Height In Metres                            0.733663\n",
       "Spread In Metres                            1.181539\n",
       "Diameter In Centimetres At Breast Height    1.164477\n",
       "Ward Code                                   0.000000\n",
       "Ward Name                                   0.000000\n",
       "Easting                                     0.238867\n",
       "Northing                                    0.238867\n",
       "Longitude                                   0.000000\n",
       "Latitude                                    0.000000\n",
       "Location                                    0.000000\n",
       "dtype: float64"
      ]
     },
     "execution_count": 54,
     "metadata": {},
     "output_type": "execute_result"
    }
   ],
   "source": [
    "# Percentage of zero values\n",
    "trees.isin([0]).mean()*100"
   ]
  },
  {
   "cell_type": "code",
   "execution_count": 55,
   "id": "ef3f1e0b",
   "metadata": {},
   "outputs": [
    {
     "data": {
      "text/plain": [
       "Identifier                                    0\n",
       "Number Of Trees                              93\n",
       "Site Name                                     0\n",
       "Contract Area                                 0\n",
       "Scientific Name                               0\n",
       "Inspection Date                               0\n",
       "Inspection Due Date                           0\n",
       "Height In Metres                            172\n",
       "Spread In Metres                            277\n",
       "Diameter In Centimetres At Breast Height    273\n",
       "Ward Code                                     0\n",
       "Ward Name                                     0\n",
       "Easting                                      56\n",
       "Northing                                     56\n",
       "Longitude                                     0\n",
       "Latitude                                      0\n",
       "Location                                      0\n",
       "dtype: int64"
      ]
     },
     "execution_count": 55,
     "metadata": {},
     "output_type": "execute_result"
    }
   ],
   "source": [
    "# Number of zero values\n",
    "trees.isin([0]).sum()"
   ]
  },
  {
   "cell_type": "code",
   "execution_count": 56,
   "id": "f26b8b0e",
   "metadata": {},
   "outputs": [
    {
     "data": {
      "text/plain": [
       "Identifier                                  0.000000\n",
       "Number Of Trees                             0.004905\n",
       "Site Name                                   0.000000\n",
       "Contract Area                               0.000000\n",
       "Scientific Name                             0.000000\n",
       "Inspection Date                             0.017105\n",
       "Inspection Due Date                         0.017105\n",
       "Height In Metres                            0.026019\n",
       "Spread In Metres                            0.030498\n",
       "Diameter In Centimetres At Breast Height    0.030370\n",
       "Ward Code                                   0.009640\n",
       "Ward Name                                   0.009640\n",
       "Easting                                     0.002389\n",
       "Northing                                    0.002389\n",
       "Longitude                                   0.002389\n",
       "Latitude                                    0.002389\n",
       "Location                                    0.002389\n",
       "dtype: float64"
      ]
     },
     "execution_count": 56,
     "metadata": {},
     "output_type": "execute_result"
    }
   ],
   "source": [
    "# Percentage of null and zero values\n",
    "(trees.isnull().sum() + trees.isin([0]).sum())/trees.shape[0]"
   ]
  },
  {
   "cell_type": "code",
   "execution_count": 57,
   "id": "e64a6c9c",
   "metadata": {},
   "outputs": [
    {
     "data": {
      "text/plain": [
       "Identifier                                    0\n",
       "Number Of Trees                             115\n",
       "Site Name                                     0\n",
       "Contract Area                                 0\n",
       "Scientific Name                               0\n",
       "Inspection Date                             401\n",
       "Inspection Due Date                         401\n",
       "Height In Metres                            610\n",
       "Spread In Metres                            715\n",
       "Diameter In Centimetres At Breast Height    712\n",
       "Ward Code                                   226\n",
       "Ward Name                                   226\n",
       "Easting                                      56\n",
       "Northing                                     56\n",
       "Longitude                                    56\n",
       "Latitude                                     56\n",
       "Location                                     56\n",
       "dtype: int64"
      ]
     },
     "execution_count": 57,
     "metadata": {},
     "output_type": "execute_result"
    }
   ],
   "source": [
    "# Number of null and zero values\n",
    "(trees.isnull().sum() + trees.isin([0]).sum())"
   ]
  },
  {
   "cell_type": "markdown",
   "id": "7a63a707",
   "metadata": {},
   "source": [
    "### 4.2 Missing Values for the Environmental Dataset"
   ]
  },
  {
   "cell_type": "markdown",
   "id": "62072200",
   "metadata": {},
   "source": [
    "Now repeat the missing values check for the environmental dataset."
   ]
  },
  {
   "cell_type": "code",
   "execution_count": 58,
   "id": "a1b60aa7",
   "metadata": {},
   "outputs": [
    {
     "data": {
      "text/plain": [
       "Identifier                                           0.000000\n",
       "Maturity                                             1.746744\n",
       "Physiological Condition                              2.015802\n",
       "Tree Set To Be Removed                               0.000000\n",
       "Removal Reason                                      99.641256\n",
       "Capital Asset Value For Amenity Trees                1.849242\n",
       "Carbon Storage In Kilograms                         12.214392\n",
       "Gross Carbon Sequestration Per Year In Kilograms    12.214392\n",
       "Pollution Removal Per Year In Grams                 12.214392\n",
       "dtype: float64"
      ]
     },
     "execution_count": 58,
     "metadata": {},
     "output_type": "execute_result"
    }
   ],
   "source": [
    "# Percentage of null values\n",
    "environmental.isnull().mean()*100"
   ]
  },
  {
   "cell_type": "code",
   "execution_count": 59,
   "id": "68e6479f",
   "metadata": {},
   "outputs": [
    {
     "data": {
      "text/plain": [
       "Identifier                                              0\n",
       "Maturity                                              409\n",
       "Physiological Condition                               472\n",
       "Tree Set To Be Removed                                  0\n",
       "Removal Reason                                      23331\n",
       "Capital Asset Value For Amenity Trees                 433\n",
       "Carbon Storage In Kilograms                          2860\n",
       "Gross Carbon Sequestration Per Year In Kilograms     2860\n",
       "Pollution Removal Per Year In Grams                  2860\n",
       "dtype: int64"
      ]
     },
     "execution_count": 59,
     "metadata": {},
     "output_type": "execute_result"
    }
   ],
   "source": [
    "# Number of null values\n",
    "environmental.isnull().sum()"
   ]
  },
  {
   "cell_type": "code",
   "execution_count": 60,
   "id": "e2c89ca0",
   "metadata": {},
   "outputs": [
    {
     "data": {
      "text/plain": [
       "Identifier                                          0.000000\n",
       "Maturity                                            0.000000\n",
       "Physiological Condition                             0.000000\n",
       "Tree Set To Be Removed                              0.000000\n",
       "Removal Reason                                      0.000000\n",
       "Capital Asset Value For Amenity Trees               1.183002\n",
       "Carbon Storage In Kilograms                         0.000000\n",
       "Gross Carbon Sequestration Per Year In Kilograms    0.025625\n",
       "Pollution Removal Per Year In Grams                 0.000000\n",
       "dtype: float64"
      ]
     },
     "execution_count": 60,
     "metadata": {},
     "output_type": "execute_result"
    }
   ],
   "source": [
    "# Percentage of zero values\n",
    "environmental.isin([0]).mean()*100"
   ]
  },
  {
   "cell_type": "code",
   "execution_count": 61,
   "id": "76c1a064",
   "metadata": {},
   "outputs": [
    {
     "data": {
      "text/plain": [
       "Identifier                                            0\n",
       "Maturity                                              0\n",
       "Physiological Condition                               0\n",
       "Tree Set To Be Removed                                0\n",
       "Removal Reason                                        0\n",
       "Capital Asset Value For Amenity Trees               277\n",
       "Carbon Storage In Kilograms                           0\n",
       "Gross Carbon Sequestration Per Year In Kilograms      6\n",
       "Pollution Removal Per Year In Grams                   0\n",
       "dtype: int64"
      ]
     },
     "execution_count": 61,
     "metadata": {},
     "output_type": "execute_result"
    }
   ],
   "source": [
    "# Number of zero values\n",
    "environmental.isin([0]).sum()"
   ]
  },
  {
   "cell_type": "code",
   "execution_count": 62,
   "id": "797934d8",
   "metadata": {},
   "outputs": [
    {
     "data": {
      "text/plain": [
       "Identifier                                          0.000000\n",
       "Maturity                                            0.017467\n",
       "Physiological Condition                             0.020158\n",
       "Tree Set To Be Removed                              0.000000\n",
       "Removal Reason                                      0.996413\n",
       "Capital Asset Value For Amenity Trees               0.030322\n",
       "Carbon Storage In Kilograms                         0.122144\n",
       "Gross Carbon Sequestration Per Year In Kilograms    0.122400\n",
       "Pollution Removal Per Year In Grams                 0.122144\n",
       "dtype: float64"
      ]
     },
     "execution_count": 62,
     "metadata": {},
     "output_type": "execute_result"
    }
   ],
   "source": [
    "# Percentage of null and zero values\n",
    "(environmental.isnull().sum() + environmental.isin([0]).sum())/environmental.shape[0]"
   ]
  },
  {
   "cell_type": "code",
   "execution_count": 63,
   "id": "6e5cb707",
   "metadata": {},
   "outputs": [
    {
     "data": {
      "text/plain": [
       "Identifier                                              0\n",
       "Maturity                                              409\n",
       "Physiological Condition                               472\n",
       "Tree Set To Be Removed                                  0\n",
       "Removal Reason                                      23331\n",
       "Capital Asset Value For Amenity Trees                 710\n",
       "Carbon Storage In Kilograms                          2860\n",
       "Gross Carbon Sequestration Per Year In Kilograms     2866\n",
       "Pollution Removal Per Year In Grams                  2860\n",
       "dtype: int64"
      ]
     },
     "execution_count": 63,
     "metadata": {},
     "output_type": "execute_result"
    }
   ],
   "source": [
    "# Number of null and zero values\n",
    "(environmental.isnull().sum() + environmental.isin([0]).sum())"
   ]
  },
  {
   "cell_type": "markdown",
   "id": "0497c6c1",
   "metadata": {},
   "source": [
    "### 4.3 Missing Values for the Names Dataset"
   ]
  },
  {
   "cell_type": "markdown",
   "id": "72e112b7",
   "metadata": {},
   "source": [
    "Now repeat the missing values check for the common names dataset."
   ]
  },
  {
   "cell_type": "code",
   "execution_count": 64,
   "id": "e9cb0fb8",
   "metadata": {},
   "outputs": [
    {
     "data": {
      "text/plain": [
       "Scientific Name    0.000000\n",
       "Common Name        4.074703\n",
       "dtype: float64"
      ]
     },
     "execution_count": 64,
     "metadata": {},
     "output_type": "execute_result"
    }
   ],
   "source": [
    "# Percentage of null values\n",
    "names.isnull().mean()*100"
   ]
  },
  {
   "cell_type": "code",
   "execution_count": 65,
   "id": "b11df893",
   "metadata": {},
   "outputs": [
    {
     "data": {
      "text/plain": [
       "Scientific Name     0\n",
       "Common Name        24\n",
       "dtype: int64"
      ]
     },
     "execution_count": 65,
     "metadata": {},
     "output_type": "execute_result"
    }
   ],
   "source": [
    "# Number of null values\n",
    "names.isnull().sum()"
   ]
  },
  {
   "cell_type": "code",
   "execution_count": 66,
   "id": "3711bb71",
   "metadata": {},
   "outputs": [
    {
     "data": {
      "text/plain": [
       "Scientific Name    0.0\n",
       "Common Name        0.0\n",
       "dtype: float64"
      ]
     },
     "execution_count": 66,
     "metadata": {},
     "output_type": "execute_result"
    }
   ],
   "source": [
    "# Percentage of zero values\n",
    "names.isin([0]).mean()*100"
   ]
  },
  {
   "cell_type": "code",
   "execution_count": 67,
   "id": "e9da5c35",
   "metadata": {},
   "outputs": [
    {
     "data": {
      "text/plain": [
       "Scientific Name    0\n",
       "Common Name        0\n",
       "dtype: int64"
      ]
     },
     "execution_count": 67,
     "metadata": {},
     "output_type": "execute_result"
    }
   ],
   "source": [
    "# Number of zero values\n",
    "names.isin([0]).sum()"
   ]
  },
  {
   "cell_type": "code",
   "execution_count": 68,
   "id": "b8c942b2",
   "metadata": {},
   "outputs": [
    {
     "data": {
      "text/plain": [
       "Scientific Name    0.000000\n",
       "Common Name        0.040747\n",
       "dtype: float64"
      ]
     },
     "execution_count": 68,
     "metadata": {},
     "output_type": "execute_result"
    }
   ],
   "source": [
    "# Percentage of null and zero values\n",
    "(names.isnull().sum() + names.isin([0]).sum())/names.shape[0]"
   ]
  },
  {
   "cell_type": "code",
   "execution_count": 69,
   "id": "5ed1f630",
   "metadata": {},
   "outputs": [
    {
     "data": {
      "text/plain": [
       "Scientific Name     0\n",
       "Common Name        24\n",
       "dtype: int64"
      ]
     },
     "execution_count": 69,
     "metadata": {},
     "output_type": "execute_result"
    }
   ],
   "source": [
    "# Number of null and zero values\n",
    "(names.isnull().sum() + names.isin([0]).sum())"
   ]
  },
  {
   "cell_type": "markdown",
   "id": "b8b1aea2",
   "metadata": {},
   "source": [
    "### 4.4 Observations\n",
    "- There are many missing values present for trees dataset. In Height, diameter and spread 1.86% null values are present approximately. The number of trees missing are 22 which can impact the creation of tree repositiry in Camden town. There are 0.2% missing location attributes for the trees data which can impact the location inspecting techniques for the council.\n",
    "- For environmental dataset, 99.6% null values are present for removal reason. This means that only very few trees are removed for any specfic reason given, other are removed without any reason provided. For important environmental factors, approx 12% missing values are present which will have significant impact later when reporting environmental data. Also, it will have huge impact when classifying the physiological condition of trees based on these environmental variables.\n",
    "- In names dataset, common names have 24 null values which means that 24 trees have no common names even though they have scientific names nad this will led to incomplete repository list "
   ]
  },
  {
   "cell_type": "markdown",
   "id": "5a315b0d",
   "metadata": {},
   "source": [
    "# Task 5: Identify Outliers in the Trees Dimensions\n",
    "\n",
    "Outliers are values that are so unusual they are possibly incorrect! We can use a boxplot to show the spread of data and any outliers. Read the following section if you are unfamiliar with them:\n",
    "\n",
    "- Box plots\n",
    "\n",
    "Any circles represent what the boxplot considers outliers, but some of these might just be correct but extreme values. We want to only highlight really crazy values which are clearly incorrect.\n",
    "\n",
    "We can use this function to draw boxplots:\n",
    "\n",
    "- pandas.DataFrame.boxplot\n",
    "\n",
    "Once we have found if there are outliers, it would be nice to show the rows containing the outliers. The technique for filtering Pandas DataFrames is described here:\n",
    "\n",
    "- Filtering Pandas DataFrames\n",
    "\n",
    "The filtering technique creates a mask of rows that we want to select, e.g:\n",
    "\n",
    "- mask = df['mycolumn'] > 500\n",
    "\n",
    "and then uses the mask to select rows:\n",
    "\n",
    "- df[mask]\n",
    "\n",
    "Note that there is no absolute definition of what \"crazy\" means here. You will need to make some judgements based on your understanding of the world (or specifically the world of trees in Camden!).\n",
    "\n",
    "### 5.1 Outliers for Height"
   ]
  },
  {
   "cell_type": "markdown",
   "id": "210da736",
   "metadata": {},
   "source": [
    "Find the outliers in the tree height column."
   ]
  },
  {
   "cell_type": "code",
   "execution_count": 70,
   "id": "1c8a5751",
   "metadata": {},
   "outputs": [
    {
     "data": {
      "text/plain": [
       "<Axes: >"
      ]
     },
     "execution_count": 70,
     "metadata": {},
     "output_type": "execute_result"
    },
    {
     "data": {
      "image/png": "[encoded data removed]",
      "text/plain": [
       "<Figure size 640x480 with 1 Axes>"
      ]
     },
     "metadata": {},
     "output_type": "display_data"
    }
   ],
   "source": [
    "trees['Height In Metres'].plot(kind='box')"
   ]
  },
  {
   "cell_type": "code",
   "execution_count": 71,
   "id": "39c68475",
   "metadata": {},
   "outputs": [
    {
     "data": {
      "text/html": [
       "<div>\n",
       "<style scoped>\n",
       "    .dataframe tbody tr th:only-of-type {\n",
       "        vertical-align: middle;\n",
       "    }\n",
       "\n",
       "    .dataframe tbody tr th {\n",
       "        vertical-align: top;\n",
       "    }\n",
       "\n",
       "    .dataframe thead th {\n",
       "        text-align: right;\n",
       "    }\n",
       "</style>\n",
       "<table border=\"1\" class=\"dataframe\">\n",
       "  <thead>\n",
       "    <tr style=\"text-align: right;\">\n",
       "      <th></th>\n",
       "      <th>Identifier</th>\n",
       "      <th>Number Of Trees</th>\n",
       "      <th>Site Name</th>\n",
       "      <th>Contract Area</th>\n",
       "      <th>Scientific Name</th>\n",
       "      <th>Inspection Date</th>\n",
       "      <th>Inspection Due Date</th>\n",
       "      <th>Height In Metres</th>\n",
       "      <th>Spread In Metres</th>\n",
       "      <th>Diameter In Centimetres At Breast Height</th>\n",
       "      <th>Ward Code</th>\n",
       "      <th>Ward Name</th>\n",
       "      <th>Easting</th>\n",
       "      <th>Northing</th>\n",
       "      <th>Longitude</th>\n",
       "      <th>Latitude</th>\n",
       "      <th>Location</th>\n",
       "    </tr>\n",
       "  </thead>\n",
       "  <tbody>\n",
       "    <tr>\n",
       "      <th>1356</th>\n",
       "      <td>00001547</td>\n",
       "      <td>1.0</td>\n",
       "      <td>Beaumont Walk Estate</td>\n",
       "      <td>Housing</td>\n",
       "      <td>Robinia pseudoacacia</td>\n",
       "      <td>2017-05-23</td>\n",
       "      <td>2020/2021</td>\n",
       "      <td>96.0</td>\n",
       "      <td>10.0</td>\n",
       "      <td>63.0</td>\n",
       "      <td>E05000136</td>\n",
       "      <td>Haverstock</td>\n",
       "      <td>527847</td>\n",
       "      <td>184391</td>\n",
       "      <td>-0.157739</td>\n",
       "      <td>51.543941</td>\n",
       "      <td>(51.543941, -0.157739)</td>\n",
       "    </tr>\n",
       "    <tr>\n",
       "      <th>1863</th>\n",
       "      <td>00013862</td>\n",
       "      <td>1.0</td>\n",
       "      <td>Maitland Park Estate 1</td>\n",
       "      <td>Housing</td>\n",
       "      <td>Prunus avium</td>\n",
       "      <td>2017-05-16</td>\n",
       "      <td>2020/2021</td>\n",
       "      <td>127.0</td>\n",
       "      <td>9.0</td>\n",
       "      <td>34.0</td>\n",
       "      <td>E05000136</td>\n",
       "      <td>Haverstock</td>\n",
       "      <td>527987</td>\n",
       "      <td>184901</td>\n",
       "      <td>-0.155534</td>\n",
       "      <td>51.548497</td>\n",
       "      <td>(51.548497, -0.155534)</td>\n",
       "    </tr>\n",
       "  </tbody>\n",
       "</table>\n",
       "</div>"
      ],
      "text/plain": [
       "     Identifier  Number Of Trees               Site Name Contract Area  \\\n",
       "1356   00001547              1.0    Beaumont Walk Estate       Housing   \n",
       "1863   00013862              1.0  Maitland Park Estate 1       Housing   \n",
       "\n",
       "           Scientific Name Inspection Date Inspection Due Date  \\\n",
       "1356  Robinia pseudoacacia      2017-05-23           2020/2021   \n",
       "1863          Prunus avium      2017-05-16           2020/2021   \n",
       "\n",
       "      Height In Metres  Spread In Metres  \\\n",
       "1356              96.0              10.0   \n",
       "1863             127.0               9.0   \n",
       "\n",
       "      Diameter In Centimetres At Breast Height  Ward Code   Ward Name  \\\n",
       "1356                                      63.0  E05000136  Haverstock   \n",
       "1863                                      34.0  E05000136  Haverstock   \n",
       "\n",
       "      Easting  Northing  Longitude   Latitude                Location  \n",
       "1356   527847    184391  -0.157739  51.543941  (51.543941, -0.157739)  \n",
       "1863   527987    184901  -0.155534  51.548497  (51.548497, -0.155534)  "
      ]
     },
     "execution_count": 71,
     "metadata": {},
     "output_type": "execute_result"
    }
   ],
   "source": [
    "#Filtering the Outliers\n",
    "mask_height = trees['Height In Metres'] > 80\n",
    "trees[mask_height]"
   ]
  },
  {
   "cell_type": "markdown",
   "id": "2e296189",
   "metadata": {},
   "source": [
    "#### Observation\n",
    "Box plot is the most effective way for understanding outliers in a data. By plotting Height in Meters as box plot, we observed two values very high. Notice that the height is present in meters, so a jump from 40m to 96m is unusal for a tree in the same town where 75% of the trees have a height between 3 to 15 meters. There are some few trees which have height above normal range but that's possible for real life scenarios. For selecting the outliers the range is set to be 50 meters, all the points above 50 meters will be considered as outliers"
   ]
  },
  {
   "cell_type": "markdown",
   "id": "110d4863",
   "metadata": {},
   "source": [
    "### 5.2 Outliers for Spread"
   ]
  },
  {
   "cell_type": "markdown",
   "id": "91cf94cd",
   "metadata": {},
   "source": [
    "Now repeat the analysis for spread."
   ]
  },
  {
   "cell_type": "code",
   "execution_count": 72,
   "id": "e053effb",
   "metadata": {},
   "outputs": [
    {
     "data": {
      "text/plain": [
       "<Axes: >"
      ]
     },
     "execution_count": 72,
     "metadata": {},
     "output_type": "execute_result"
    },
    {
     "data": {
      "image/png": "[encoded data removed]",
      "text/plain": [
       "<Figure size 640x480 with 1 Axes>"
      ]
     },
     "metadata": {},
     "output_type": "display_data"
    }
   ],
   "source": [
    "trees['Spread In Metres'].plot(kind='box')"
   ]
  },
  {
   "cell_type": "code",
   "execution_count": 73,
   "id": "304d02cb",
   "metadata": {},
   "outputs": [
    {
     "data": {
      "text/html": [
       "<div>\n",
       "<style scoped>\n",
       "    .dataframe tbody tr th:only-of-type {\n",
       "        vertical-align: middle;\n",
       "    }\n",
       "\n",
       "    .dataframe tbody tr th {\n",
       "        vertical-align: top;\n",
       "    }\n",
       "\n",
       "    .dataframe thead th {\n",
       "        text-align: right;\n",
       "    }\n",
       "</style>\n",
       "<table border=\"1\" class=\"dataframe\">\n",
       "  <thead>\n",
       "    <tr style=\"text-align: right;\">\n",
       "      <th></th>\n",
       "      <th>Identifier</th>\n",
       "      <th>Number Of Trees</th>\n",
       "      <th>Site Name</th>\n",
       "      <th>Contract Area</th>\n",
       "      <th>Scientific Name</th>\n",
       "      <th>Inspection Date</th>\n",
       "      <th>Inspection Due Date</th>\n",
       "      <th>Height In Metres</th>\n",
       "      <th>Spread In Metres</th>\n",
       "      <th>Diameter In Centimetres At Breast Height</th>\n",
       "      <th>Ward Code</th>\n",
       "      <th>Ward Name</th>\n",
       "      <th>Easting</th>\n",
       "      <th>Northing</th>\n",
       "      <th>Longitude</th>\n",
       "      <th>Latitude</th>\n",
       "      <th>Location</th>\n",
       "    </tr>\n",
       "  </thead>\n",
       "  <tbody>\n",
       "    <tr>\n",
       "      <th>18567</th>\n",
       "      <td>00045515</td>\n",
       "      <td>1.0</td>\n",
       "      <td>Broadfield Estate 1</td>\n",
       "      <td>Housing</td>\n",
       "      <td>Quercus robur</td>\n",
       "      <td>2018-04-26</td>\n",
       "      <td>2021/2022</td>\n",
       "      <td>8.0</td>\n",
       "      <td>88.0</td>\n",
       "      <td>17.0</td>\n",
       "      <td>E05000144</td>\n",
       "      <td>Swiss Cottage</td>\n",
       "      <td>525993</td>\n",
       "      <td>184693</td>\n",
       "      <td>-0.184348</td>\n",
       "      <td>51.547074</td>\n",
       "      <td>(51.547074, -0.184348)</td>\n",
       "    </tr>\n",
       "  </tbody>\n",
       "</table>\n",
       "</div>"
      ],
      "text/plain": [
       "      Identifier  Number Of Trees            Site Name Contract Area  \\\n",
       "18567   00045515              1.0  Broadfield Estate 1       Housing   \n",
       "\n",
       "      Scientific Name Inspection Date Inspection Due Date  Height In Metres  \\\n",
       "18567   Quercus robur      2018-04-26           2021/2022               8.0   \n",
       "\n",
       "       Spread In Metres  Diameter In Centimetres At Breast Height  Ward Code  \\\n",
       "18567              88.0                                      17.0  E05000144   \n",
       "\n",
       "           Ward Name  Easting  Northing  Longitude   Latitude  \\\n",
       "18567  Swiss Cottage   525993    184693  -0.184348  51.547074   \n",
       "\n",
       "                     Location  \n",
       "18567  (51.547074, -0.184348)  "
      ]
     },
     "execution_count": 73,
     "metadata": {},
     "output_type": "execute_result"
    }
   ],
   "source": [
    "#Filtering the Outliers\n",
    "mask_spread = trees['Spread In Metres'] > 80\n",
    "trees[mask_spread]"
   ]
  },
  {
   "cell_type": "markdown",
   "id": "2e8fdf97",
   "metadata": {},
   "source": [
    "#### Observation\n",
    "For spread in meters, the data points are ranging in value between 2 meters and approximately 40 meters. Few values are present above 18 meters which continue up to 40 meters. We cannot count these as outliers becuase there is a possibility that the sprread of trees is up to 40 meters. A data point present at approx 90 meters is considered as outliers becuase that is way more than normal. That's why the range is set as 40 meters to filter out the outliers and not 20. After observing the outlier, its hright is 8 meters. So, its confirm that such a tree cannot exist with a height of 8 meters and spread of 88 meters"
   ]
  },
  {
   "cell_type": "markdown",
   "id": "74798980",
   "metadata": {},
   "source": [
    "### 5.3 Outliers for Diameter"
   ]
  },
  {
   "cell_type": "markdown",
   "id": "573749b8",
   "metadata": {},
   "source": [
    "Now repeat the analysis for diameter."
   ]
  },
  {
   "cell_type": "code",
   "execution_count": 74,
   "id": "52a936df",
   "metadata": {},
   "outputs": [
    {
     "data": {
      "text/plain": [
       "<Axes: >"
      ]
     },
     "execution_count": 74,
     "metadata": {},
     "output_type": "execute_result"
    },
    {
     "data": {
      "image/png": "[encoded data removed]",
      "text/plain": [
       "<Figure size 640x480 with 1 Axes>"
      ]
     },
     "metadata": {},
     "output_type": "display_data"
    }
   ],
   "source": [
    "trees['Diameter In Centimetres At Breast Height'].plot(kind='box')"
   ]
  },
  {
   "cell_type": "code",
   "execution_count": 75,
   "id": "ec37ce89",
   "metadata": {},
   "outputs": [
    {
     "data": {
      "text/html": [
       "<div>\n",
       "<style scoped>\n",
       "    .dataframe tbody tr th:only-of-type {\n",
       "        vertical-align: middle;\n",
       "    }\n",
       "\n",
       "    .dataframe tbody tr th {\n",
       "        vertical-align: top;\n",
       "    }\n",
       "\n",
       "    .dataframe thead th {\n",
       "        text-align: right;\n",
       "    }\n",
       "</style>\n",
       "<table border=\"1\" class=\"dataframe\">\n",
       "  <thead>\n",
       "    <tr style=\"text-align: right;\">\n",
       "      <th></th>\n",
       "      <th>Identifier</th>\n",
       "      <th>Number Of Trees</th>\n",
       "      <th>Site Name</th>\n",
       "      <th>Contract Area</th>\n",
       "      <th>Scientific Name</th>\n",
       "      <th>Inspection Date</th>\n",
       "      <th>Inspection Due Date</th>\n",
       "      <th>Height In Metres</th>\n",
       "      <th>Spread In Metres</th>\n",
       "      <th>Diameter In Centimetres At Breast Height</th>\n",
       "      <th>Ward Code</th>\n",
       "      <th>Ward Name</th>\n",
       "      <th>Easting</th>\n",
       "      <th>Northing</th>\n",
       "      <th>Longitude</th>\n",
       "      <th>Latitude</th>\n",
       "      <th>Location</th>\n",
       "    </tr>\n",
       "  </thead>\n",
       "  <tbody>\n",
       "  </tbody>\n",
       "</table>\n",
       "</div>"
      ],
      "text/plain": [
       "Empty DataFrame\n",
       "Columns: [Identifier, Number Of Trees, Site Name, Contract Area, Scientific Name, Inspection Date, Inspection Due Date, Height In Metres, Spread In Metres, Diameter In Centimetres At Breast Height, Ward Code, Ward Name, Easting, Northing, Longitude, Latitude, Location]\n",
       "Index: []"
      ]
     },
     "execution_count": 75,
     "metadata": {},
     "output_type": "execute_result"
    }
   ],
   "source": [
    "#Filtering the Outliers\n",
    "mask_diameter = trees['Diameter In Centimetres At Breast Height'] > 250\n",
    "trees[mask_diameter]"
   ]
  },
  {
   "cell_type": "markdown",
   "id": "a16b7bef",
   "metadata": {},
   "source": [
    "#### Observation\n",
    "Diameter is present in centimeters(not in meters as height and spread). After analyzing the Diameter at breast height, 75% of the trees have diameter in between 10 to 50cm. There are few trees that have diameter above 100cm and are present as outliers if analzyed from box plot view. But as a data analyst, we must see the conditions for the data. It is possible for trees to have diameter more than 100cm. The diameter is present up to 200 cm for few trees but that is not an anomaly. The difference between 100 cm and 200 cm is 1 meter only and that's possible for a few trees. That's ehy the range is set to be 250 to filter out the outliers"
   ]
  },
  {
   "cell_type": "markdown",
   "id": "74e81d9e",
   "metadata": {},
   "source": [
    "### Observations\n",
    "- After analyzing the outliers for height, spread and diameter. We can make some assumptions about the outliers. For height in metres, we detected two outliers. For Spread in Metres, we detected only one outlier which was showing the spread above 80m. For Diametre in centimetres, no outlier was detected"
   ]
  },
  {
   "cell_type": "markdown",
   "id": "0cba037b",
   "metadata": {},
   "source": [
    "# Task 6: Identify Duplicates in the Trees Dataset\n",
    "Sometimes data has duplicate entries. This is another sign of data quality issues!\n",
    "### 6.1 Find Duplicate Rows\n",
    "In our dataset the Identifier column should be unique. Find out if it is! We've already used a function that can count how many times each value in a column exists. Use is to see if we have duplicates in the trees Dataframe."
   ]
  },
  {
   "cell_type": "code",
   "execution_count": 76,
   "id": "1d2e945f",
   "metadata": {},
   "outputs": [
    {
     "data": {
      "text/plain": [
       "Identifier\n",
       "00000999    2\n",
       "00060087    2\n",
       "00022744    2\n",
       "00032549    2\n",
       "00022674    2\n",
       "00060088    2\n",
       "Name: count, dtype: int64"
      ]
     },
     "execution_count": 76,
     "metadata": {},
     "output_type": "execute_result"
    }
   ],
   "source": [
    "# Find out if we have any duplicates\n",
    "duplicates=trees['Identifier'].value_counts()\n",
    "duplicates[duplicates>1]"
   ]
  },
  {
   "cell_type": "code",
   "execution_count": 77,
   "id": "4faa7f9b",
   "metadata": {},
   "outputs": [
    {
     "data": {
      "text/html": [
       "<div>\n",
       "<style scoped>\n",
       "    .dataframe tbody tr th:only-of-type {\n",
       "        vertical-align: middle;\n",
       "    }\n",
       "\n",
       "    .dataframe tbody tr th {\n",
       "        vertical-align: top;\n",
       "    }\n",
       "\n",
       "    .dataframe thead th {\n",
       "        text-align: right;\n",
       "    }\n",
       "</style>\n",
       "<table border=\"1\" class=\"dataframe\">\n",
       "  <thead>\n",
       "    <tr style=\"text-align: right;\">\n",
       "      <th></th>\n",
       "      <th>Identifier</th>\n",
       "      <th>Number Of Trees</th>\n",
       "      <th>Site Name</th>\n",
       "      <th>Contract Area</th>\n",
       "      <th>Scientific Name</th>\n",
       "      <th>Inspection Date</th>\n",
       "      <th>Inspection Due Date</th>\n",
       "      <th>Height In Metres</th>\n",
       "      <th>Spread In Metres</th>\n",
       "      <th>Diameter In Centimetres At Breast Height</th>\n",
       "      <th>Ward Code</th>\n",
       "      <th>Ward Name</th>\n",
       "      <th>Easting</th>\n",
       "      <th>Northing</th>\n",
       "      <th>Longitude</th>\n",
       "      <th>Latitude</th>\n",
       "      <th>Location</th>\n",
       "    </tr>\n",
       "  </thead>\n",
       "  <tbody>\n",
       "    <tr>\n",
       "      <th>6111</th>\n",
       "      <td>00032549</td>\n",
       "      <td>1.0</td>\n",
       "      <td>NARCISSUS ROAD</td>\n",
       "      <td>Highways</td>\n",
       "      <td>Betula albosinensis Fasc.</td>\n",
       "      <td>2018-09-19</td>\n",
       "      <td>2021/2022</td>\n",
       "      <td>9.0</td>\n",
       "      <td>6.0</td>\n",
       "      <td>19.0</td>\n",
       "      <td>E05000145</td>\n",
       "      <td>West Hampstead</td>\n",
       "      <td>525185</td>\n",
       "      <td>185127</td>\n",
       "      <td>-0.195840</td>\n",
       "      <td>51.551159</td>\n",
       "      <td>(51.551159, -0.19584)</td>\n",
       "    </tr>\n",
       "    <tr>\n",
       "      <th>9186</th>\n",
       "      <td>00022744</td>\n",
       "      <td>1.0</td>\n",
       "      <td>YORK WAY</td>\n",
       "      <td>Highways</td>\n",
       "      <td>Ailanthus altissima</td>\n",
       "      <td>2019-10-30</td>\n",
       "      <td>2022/2023</td>\n",
       "      <td>7.5</td>\n",
       "      <td>3.0</td>\n",
       "      <td>18.0</td>\n",
       "      <td>E05000131</td>\n",
       "      <td>Cantelowes</td>\n",
       "      <td>529983</td>\n",
       "      <td>184724</td>\n",
       "      <td>-0.126837</td>\n",
       "      <td>51.546447</td>\n",
       "      <td>(51.546447, -0.126837)</td>\n",
       "    </tr>\n",
       "    <tr>\n",
       "      <th>10972</th>\n",
       "      <td>00060088</td>\n",
       "      <td>1.0</td>\n",
       "      <td>FREDERICK STREET</td>\n",
       "      <td>Highways</td>\n",
       "      <td>Vacant Tree Pit (planned: Acer campestre eco s...</td>\n",
       "      <td>2019-11-09</td>\n",
       "      <td>2022/2023</td>\n",
       "      <td>NaN</td>\n",
       "      <td>NaN</td>\n",
       "      <td>NaN</td>\n",
       "      <td>E05000141</td>\n",
       "      <td>King's Cross</td>\n",
       "      <td>530770</td>\n",
       "      <td>182696</td>\n",
       "      <td>-0.116241</td>\n",
       "      <td>51.528046</td>\n",
       "      <td>(51.528046, -0.116241)</td>\n",
       "    </tr>\n",
       "    <tr>\n",
       "      <th>13098</th>\n",
       "      <td>00000999</td>\n",
       "      <td>1.0</td>\n",
       "      <td>ALMA STREET</td>\n",
       "      <td>Highways</td>\n",
       "      <td>Sorbus hupehensis</td>\n",
       "      <td>2017-07-25</td>\n",
       "      <td>2020/2021</td>\n",
       "      <td>5.0</td>\n",
       "      <td>4.0</td>\n",
       "      <td>18.0</td>\n",
       "      <td>E05000139</td>\n",
       "      <td>Kentish Town</td>\n",
       "      <td>528834</td>\n",
       "      <td>184856</td>\n",
       "      <td>-0.143337</td>\n",
       "      <td>51.547904</td>\n",
       "      <td>(51.547904, -0.143337)</td>\n",
       "    </tr>\n",
       "    <tr>\n",
       "      <th>13628</th>\n",
       "      <td>00022674</td>\n",
       "      <td>1.0</td>\n",
       "      <td>WOODSOME ROAD</td>\n",
       "      <td>Highways</td>\n",
       "      <td>Sorbus</td>\n",
       "      <td>2017-10-07</td>\n",
       "      <td>2020/2021</td>\n",
       "      <td>7.0</td>\n",
       "      <td>6.0</td>\n",
       "      <td>28.0</td>\n",
       "      <td>E05000137</td>\n",
       "      <td>Highgate</td>\n",
       "      <td>528515</td>\n",
       "      <td>186109</td>\n",
       "      <td>-0.147481</td>\n",
       "      <td>51.559237</td>\n",
       "      <td>(51.559237, -0.147481)</td>\n",
       "    </tr>\n",
       "    <tr>\n",
       "      <th>15653</th>\n",
       "      <td>00060087</td>\n",
       "      <td>1.0</td>\n",
       "      <td>ARGYLE SQUARE</td>\n",
       "      <td>Highways</td>\n",
       "      <td>Vacant Tree Pit (planned: Acer campestre eco s...</td>\n",
       "      <td>2019-11-09</td>\n",
       "      <td>2022/2023</td>\n",
       "      <td>NaN</td>\n",
       "      <td>NaN</td>\n",
       "      <td>NaN</td>\n",
       "      <td>E05000141</td>\n",
       "      <td>King's Cross</td>\n",
       "      <td>530342</td>\n",
       "      <td>182839</td>\n",
       "      <td>-0.122352</td>\n",
       "      <td>51.529428</td>\n",
       "      <td>(51.529428, -0.122352)</td>\n",
       "    </tr>\n",
       "  </tbody>\n",
       "</table>\n",
       "</div>"
      ],
      "text/plain": [
       "      Identifier  Number Of Trees         Site Name Contract Area  \\\n",
       "6111    00032549              1.0    NARCISSUS ROAD      Highways   \n",
       "9186    00022744              1.0          YORK WAY      Highways   \n",
       "10972   00060088              1.0  FREDERICK STREET      Highways   \n",
       "13098   00000999              1.0       ALMA STREET      Highways   \n",
       "13628   00022674              1.0     WOODSOME ROAD      Highways   \n",
       "15653   00060087              1.0     ARGYLE SQUARE      Highways   \n",
       "\n",
       "                                         Scientific Name Inspection Date  \\\n",
       "6111                           Betula albosinensis Fasc.      2018-09-19   \n",
       "9186                                 Ailanthus altissima      2019-10-30   \n",
       "10972  Vacant Tree Pit (planned: Acer campestre eco s...      2019-11-09   \n",
       "13098                                  Sorbus hupehensis      2017-07-25   \n",
       "13628                                             Sorbus      2017-10-07   \n",
       "15653  Vacant Tree Pit (planned: Acer campestre eco s...      2019-11-09   \n",
       "\n",
       "      Inspection Due Date  Height In Metres  Spread In Metres  \\\n",
       "6111            2021/2022               9.0               6.0   \n",
       "9186            2022/2023               7.5               3.0   \n",
       "10972           2022/2023               NaN               NaN   \n",
       "13098           2020/2021               5.0               4.0   \n",
       "13628           2020/2021               7.0               6.0   \n",
       "15653           2022/2023               NaN               NaN   \n",
       "\n",
       "       Diameter In Centimetres At Breast Height  Ward Code       Ward Name  \\\n",
       "6111                                       19.0  E05000145  West Hampstead   \n",
       "9186                                       18.0  E05000131      Cantelowes   \n",
       "10972                                       NaN  E05000141    King's Cross   \n",
       "13098                                      18.0  E05000139    Kentish Town   \n",
       "13628                                      28.0  E05000137        Highgate   \n",
       "15653                                       NaN  E05000141    King's Cross   \n",
       "\n",
       "       Easting  Northing  Longitude   Latitude                Location  \n",
       "6111    525185    185127  -0.195840  51.551159   (51.551159, -0.19584)  \n",
       "9186    529983    184724  -0.126837  51.546447  (51.546447, -0.126837)  \n",
       "10972   530770    182696  -0.116241  51.528046  (51.528046, -0.116241)  \n",
       "13098   528834    184856  -0.143337  51.547904  (51.547904, -0.143337)  \n",
       "13628   528515    186109  -0.147481  51.559237  (51.559237, -0.147481)  \n",
       "15653   530342    182839  -0.122352  51.529428  (51.529428, -0.122352)  "
      ]
     },
     "execution_count": 77,
     "metadata": {},
     "output_type": "execute_result"
    }
   ],
   "source": [
    "# Select the rows that are duplicated\n",
    "duplicated_identifer_trees=trees[trees.duplicated('Identifier')]\n",
    "duplicated_identifer_trees"
   ]
  },
  {
   "cell_type": "markdown",
   "id": "e6a8de15",
   "metadata": {},
   "source": [
    "This shape tells us that there are six data points/rows that are duplicated by Identifier column"
   ]
  },
  {
   "cell_type": "markdown",
   "id": "fd5b7c56",
   "metadata": {},
   "source": [
    "### 6.2 Observations\n",
    "- After checking for duplicates in Identifier column of trees dataset, we observed six duplicated identifiers. Duplicates can impact data quality issues unless removed. Council needs to remove this duplicated data so they will have a single tree for one data point present in the data"
   ]
  },
  {
   "cell_type": "markdown",
   "id": "a7763ec3",
   "metadata": {},
   "source": [
    "# Task 7: Identify Geolocation Issues\n",
    "\n",
    "The geographic coordinates (Easting and Northing) can be used to plot the trees on a map. We can use this approach to see if there are any unusual tree locations!\n",
    "\n",
    "We will make a copy of the original trees dataset and remove any rows that have a missing easting or northing as these can't be plotted on the map.\n",
    "\n",
    "We can copy the DataFrame using:\n",
    "\n",
    "- pandas.DataFrame.copy\n",
    "\n",
    "We can use the DataFrame filtering technique we saw before to remove the missing values. E.g. the following code filters out rows where the value for 'mycolumn' is 100:\n",
    "\n",
    "- mask = df['mycolumn'] != 100\n",
    "- df = df[mask]\n",
    "\n",
    "You can also create masks using a function, e.g. this creates a mask which excludes nulls:\n",
    "\n",
    "- mask = df['mycolumn'].isnull()\n",
    "\n",
    "We can use this function to plot the trees on a map. Set x to \"Easting\" and y to \"Northing\" and set a figsize parameter to (6, 6) to get a square aspect ratio:\n",
    "\n",
    "- pandas.DataFrame.plot.scatter\n",
    "\n",
    "### 7.1 Remove Trees with Missing Geo-coordinates\n",
    "Check if there are any rows with null or 0 geo-coordinates. If there are, remove them as we can't plot these."
   ]
  },
  {
   "cell_type": "code",
   "execution_count": 78,
   "id": "caa70606",
   "metadata": {},
   "outputs": [],
   "source": [
    "# Make a copy of the trees\n",
    "geotrees = trees.copy()"
   ]
  },
  {
   "cell_type": "code",
   "execution_count": 79,
   "id": "a1f39bdc",
   "metadata": {},
   "outputs": [],
   "source": [
    "# Remove null Eastings\n",
    "mask=geotrees['Easting'].notnull()\n",
    "geotrees=geotrees[mask]"
   ]
  },
  {
   "cell_type": "code",
   "execution_count": 80,
   "id": "f66c8ab4",
   "metadata": {},
   "outputs": [],
   "source": [
    "# Remove 0 Eastings.  \n",
    "mask_easting = geotrees['Easting'] != 0\n",
    "geotrees = geotrees[mask_easting]"
   ]
  },
  {
   "cell_type": "code",
   "execution_count": 81,
   "id": "a1ede2ad",
   "metadata": {},
   "outputs": [],
   "source": [
    "# Remove null Northings\n",
    "mask=geotrees['Northing'].notnull()\n",
    "geotrees=geotrees[mask]"
   ]
  },
  {
   "cell_type": "code",
   "execution_count": 82,
   "id": "252cdb17",
   "metadata": {},
   "outputs": [],
   "source": [
    "# Remove 0 Northings.\n",
    "mask_northing = geotrees['Northing'] != 0\n",
    "geotrees = geotrees[mask_northing]"
   ]
  },
  {
   "cell_type": "code",
   "execution_count": 83,
   "id": "b069d6d4",
   "metadata": {},
   "outputs": [
    {
     "name": "stdout",
     "output_type": "stream",
     "text": [
      "(23388, 17)\n"
     ]
    }
   ],
   "source": [
    "# Confirm how many rows we have\n",
    "print(geotrees.shape)"
   ]
  },
  {
   "cell_type": "markdown",
   "id": "d1554f14",
   "metadata": {},
   "source": [
    "### 7.2 Plot Map of Trees\n",
    "Now make the plot. Do a scatter plot of Northing vs Easting. You should obtain an outline of the map of Camden. Compare that outline with a real map of Camden (use good old google maps!). You’ll be able to spot the trees that should not be in that dataset from there!"
   ]
  },
  {
   "cell_type": "code",
   "execution_count": 84,
   "id": "1b9c75de",
   "metadata": {},
   "outputs": [
    {
     "data": {
      "text/plain": [
       "<Axes: xlabel='Easting', ylabel='Northing'>"
      ]
     },
     "execution_count": 84,
     "metadata": {},
     "output_type": "execute_result"
    },
    {
     "data": {
      "image/png": "[encoded data removed]",
      "text/plain": [
       "<Figure size 640x480 with 1 Axes>"
      ]
     },
     "metadata": {},
     "output_type": "display_data"
    }
   ],
   "source": [
    "# Plot the trees on a map\n",
    "geotrees.plot.scatter(x='Easting',y='Northing')"
   ]
  },
  {
   "cell_type": "markdown",
   "id": "f5ead2f4",
   "metadata": {},
   "source": [
    "### 7.3 Find Trees Outside Camden\n",
    "From the scatter plot, you should be able to determine how to select the rows from the trees data set containing the offending trees (using the Easting and Northing values)\n",
    "\n",
    "Select the rows containing trees outside of Camden. Use the filter technique again."
   ]
  },
  {
   "cell_type": "code",
   "execution_count": 85,
   "id": "314f5050",
   "metadata": {},
   "outputs": [
    {
     "data": {
      "text/html": [
       "<div>\n",
       "<style scoped>\n",
       "    .dataframe tbody tr th:only-of-type {\n",
       "        vertical-align: middle;\n",
       "    }\n",
       "\n",
       "    .dataframe tbody tr th {\n",
       "        vertical-align: top;\n",
       "    }\n",
       "\n",
       "    .dataframe thead th {\n",
       "        text-align: right;\n",
       "    }\n",
       "</style>\n",
       "<table border=\"1\" class=\"dataframe\">\n",
       "  <thead>\n",
       "    <tr style=\"text-align: right;\">\n",
       "      <th></th>\n",
       "      <th>Identifier</th>\n",
       "      <th>Number Of Trees</th>\n",
       "      <th>Site Name</th>\n",
       "      <th>Contract Area</th>\n",
       "      <th>Scientific Name</th>\n",
       "      <th>Inspection Date</th>\n",
       "      <th>Inspection Due Date</th>\n",
       "      <th>Height In Metres</th>\n",
       "      <th>Spread In Metres</th>\n",
       "      <th>Diameter In Centimetres At Breast Height</th>\n",
       "      <th>Ward Code</th>\n",
       "      <th>Ward Name</th>\n",
       "      <th>Easting</th>\n",
       "      <th>Northing</th>\n",
       "      <th>Longitude</th>\n",
       "      <th>Latitude</th>\n",
       "      <th>Location</th>\n",
       "    </tr>\n",
       "  </thead>\n",
       "  <tbody>\n",
       "    <tr>\n",
       "      <th>78</th>\n",
       "      <td>00044991</td>\n",
       "      <td>1.0</td>\n",
       "      <td>Bells Hill Estate</td>\n",
       "      <td>Housing</td>\n",
       "      <td>Fraxinus excelsior</td>\n",
       "      <td>2017-04-28</td>\n",
       "      <td>2020/2021</td>\n",
       "      <td>20.0</td>\n",
       "      <td>10.0</td>\n",
       "      <td>49.0</td>\n",
       "      <td>NaN</td>\n",
       "      <td>NaN</td>\n",
       "      <td>523883</td>\n",
       "      <td>196179</td>\n",
       "      <td>-0.210713</td>\n",
       "      <td>51.650765</td>\n",
       "      <td>(51.650765, -0.210713)</td>\n",
       "    </tr>\n",
       "    <tr>\n",
       "      <th>298</th>\n",
       "      <td>00045000</td>\n",
       "      <td>1.0</td>\n",
       "      <td>Estate 167 Furzehill Road</td>\n",
       "      <td>Housing</td>\n",
       "      <td>Pinus sylvestris</td>\n",
       "      <td>2017-04-28</td>\n",
       "      <td>2020/2021</td>\n",
       "      <td>10.0</td>\n",
       "      <td>3.0</td>\n",
       "      <td>41.0</td>\n",
       "      <td>NaN</td>\n",
       "      <td>NaN</td>\n",
       "      <td>520367</td>\n",
       "      <td>195595</td>\n",
       "      <td>-0.261719</td>\n",
       "      <td>51.646283</td>\n",
       "      <td>(51.646283, -0.261719)</td>\n",
       "    </tr>\n",
       "    <tr>\n",
       "      <th>660</th>\n",
       "      <td>00044992</td>\n",
       "      <td>1.0</td>\n",
       "      <td>Bells Hill Estate</td>\n",
       "      <td>Housing</td>\n",
       "      <td>Crataegus monogyna</td>\n",
       "      <td>2017-04-28</td>\n",
       "      <td>2020/2021</td>\n",
       "      <td>4.0</td>\n",
       "      <td>4.0</td>\n",
       "      <td>7.0</td>\n",
       "      <td>NaN</td>\n",
       "      <td>NaN</td>\n",
       "      <td>523875</td>\n",
       "      <td>196170</td>\n",
       "      <td>-0.210830</td>\n",
       "      <td>51.650690</td>\n",
       "      <td>(51.65069, -0.21083)</td>\n",
       "    </tr>\n",
       "    <tr>\n",
       "      <th>1526</th>\n",
       "      <td>00044995</td>\n",
       "      <td>1.0</td>\n",
       "      <td>Bells Hill Estate</td>\n",
       "      <td>Housing</td>\n",
       "      <td>Fraxinus excelsior</td>\n",
       "      <td>2017-04-28</td>\n",
       "      <td>2020/2021</td>\n",
       "      <td>18.0</td>\n",
       "      <td>12.0</td>\n",
       "      <td>54.0</td>\n",
       "      <td>NaN</td>\n",
       "      <td>NaN</td>\n",
       "      <td>523936</td>\n",
       "      <td>196127</td>\n",
       "      <td>-0.209969</td>\n",
       "      <td>51.650287</td>\n",
       "      <td>(51.650287, -0.209969)</td>\n",
       "    </tr>\n",
       "    <tr>\n",
       "      <th>5392</th>\n",
       "      <td>00044990</td>\n",
       "      <td>1.0</td>\n",
       "      <td>Bells Hill Estate</td>\n",
       "      <td>Housing</td>\n",
       "      <td>Aesculus hippocastanum</td>\n",
       "      <td>2017-04-28</td>\n",
       "      <td>2020/2021</td>\n",
       "      <td>22.0</td>\n",
       "      <td>12.0</td>\n",
       "      <td>67.0</td>\n",
       "      <td>NaN</td>\n",
       "      <td>NaN</td>\n",
       "      <td>523889</td>\n",
       "      <td>196188</td>\n",
       "      <td>-0.210618</td>\n",
       "      <td>51.650843</td>\n",
       "      <td>(51.650843, -0.210618)</td>\n",
       "    </tr>\n",
       "    <tr>\n",
       "      <th>18069</th>\n",
       "      <td>00044993</td>\n",
       "      <td>1.0</td>\n",
       "      <td>Bells Hill Estate</td>\n",
       "      <td>Housing</td>\n",
       "      <td>Tilia cordata</td>\n",
       "      <td>2017-04-28</td>\n",
       "      <td>2020/2021</td>\n",
       "      <td>23.0</td>\n",
       "      <td>14.0</td>\n",
       "      <td>89.0</td>\n",
       "      <td>NaN</td>\n",
       "      <td>NaN</td>\n",
       "      <td>523867</td>\n",
       "      <td>196159</td>\n",
       "      <td>-0.210957</td>\n",
       "      <td>51.650590</td>\n",
       "      <td>(51.65059, -0.210957)</td>\n",
       "    </tr>\n",
       "    <tr>\n",
       "      <th>18078</th>\n",
       "      <td>00044601</td>\n",
       "      <td>1.0</td>\n",
       "      <td>Bells Hill Estate</td>\n",
       "      <td>Housing</td>\n",
       "      <td>Tilia cordata</td>\n",
       "      <td>2017-04-28</td>\n",
       "      <td>2020/2021</td>\n",
       "      <td>21.0</td>\n",
       "      <td>12.0</td>\n",
       "      <td>56.0</td>\n",
       "      <td>NaN</td>\n",
       "      <td>NaN</td>\n",
       "      <td>523905</td>\n",
       "      <td>196174</td>\n",
       "      <td>-0.210394</td>\n",
       "      <td>51.650719</td>\n",
       "      <td>(51.650719, -0.210394)</td>\n",
       "    </tr>\n",
       "    <tr>\n",
       "      <th>19532</th>\n",
       "      <td>00044988</td>\n",
       "      <td>1.0</td>\n",
       "      <td>Bells Hill Estate</td>\n",
       "      <td>Housing</td>\n",
       "      <td>Tilia cordata</td>\n",
       "      <td>2017-04-28</td>\n",
       "      <td>2020/2021</td>\n",
       "      <td>21.0</td>\n",
       "      <td>12.0</td>\n",
       "      <td>65.0</td>\n",
       "      <td>NaN</td>\n",
       "      <td>NaN</td>\n",
       "      <td>523909</td>\n",
       "      <td>196169</td>\n",
       "      <td>-0.210340</td>\n",
       "      <td>51.650676</td>\n",
       "      <td>(51.650676, -0.21034)</td>\n",
       "    </tr>\n",
       "  </tbody>\n",
       "</table>\n",
       "</div>"
      ],
      "text/plain": [
       "      Identifier  Number Of Trees                  Site Name Contract Area  \\\n",
       "78      00044991              1.0          Bells Hill Estate       Housing   \n",
       "298     00045000              1.0  Estate 167 Furzehill Road       Housing   \n",
       "660     00044992              1.0          Bells Hill Estate       Housing   \n",
       "1526    00044995              1.0          Bells Hill Estate       Housing   \n",
       "5392    00044990              1.0          Bells Hill Estate       Housing   \n",
       "18069   00044993              1.0          Bells Hill Estate       Housing   \n",
       "18078   00044601              1.0          Bells Hill Estate       Housing   \n",
       "19532   00044988              1.0          Bells Hill Estate       Housing   \n",
       "\n",
       "              Scientific Name Inspection Date Inspection Due Date  \\\n",
       "78         Fraxinus excelsior      2017-04-28           2020/2021   \n",
       "298          Pinus sylvestris      2017-04-28           2020/2021   \n",
       "660        Crataegus monogyna      2017-04-28           2020/2021   \n",
       "1526       Fraxinus excelsior      2017-04-28           2020/2021   \n",
       "5392   Aesculus hippocastanum      2017-04-28           2020/2021   \n",
       "18069           Tilia cordata      2017-04-28           2020/2021   \n",
       "18078           Tilia cordata      2017-04-28           2020/2021   \n",
       "19532           Tilia cordata      2017-04-28           2020/2021   \n",
       "\n",
       "       Height In Metres  Spread In Metres  \\\n",
       "78                 20.0              10.0   \n",
       "298                10.0               3.0   \n",
       "660                 4.0               4.0   \n",
       "1526               18.0              12.0   \n",
       "5392               22.0              12.0   \n",
       "18069              23.0              14.0   \n",
       "18078              21.0              12.0   \n",
       "19532              21.0              12.0   \n",
       "\n",
       "       Diameter In Centimetres At Breast Height Ward Code Ward Name  Easting  \\\n",
       "78                                         49.0       NaN       NaN   523883   \n",
       "298                                        41.0       NaN       NaN   520367   \n",
       "660                                         7.0       NaN       NaN   523875   \n",
       "1526                                       54.0       NaN       NaN   523936   \n",
       "5392                                       67.0       NaN       NaN   523889   \n",
       "18069                                      89.0       NaN       NaN   523867   \n",
       "18078                                      56.0       NaN       NaN   523905   \n",
       "19532                                      65.0       NaN       NaN   523909   \n",
       "\n",
       "       Northing  Longitude   Latitude                Location  \n",
       "78       196179  -0.210713  51.650765  (51.650765, -0.210713)  \n",
       "298      195595  -0.261719  51.646283  (51.646283, -0.261719)  \n",
       "660      196170  -0.210830  51.650690    (51.65069, -0.21083)  \n",
       "1526     196127  -0.209969  51.650287  (51.650287, -0.209969)  \n",
       "5392     196188  -0.210618  51.650843  (51.650843, -0.210618)  \n",
       "18069    196159  -0.210957  51.650590   (51.65059, -0.210957)  \n",
       "18078    196174  -0.210394  51.650719  (51.650719, -0.210394)  \n",
       "19532    196169  -0.210340  51.650676   (51.650676, -0.21034)  "
      ]
     },
     "execution_count": 85,
     "metadata": {},
     "output_type": "execute_result"
    }
   ],
   "source": [
    "# Select the outlier rows\n",
    "outliers = geotrees[ (geotrees['Northing'] > 194000) & (geotrees['Easting']  < 524000)]\n",
    "outliers"
   ]
  },
  {
   "cell_type": "code",
   "execution_count": 86,
   "id": "31f95a0e",
   "metadata": {},
   "outputs": [
    {
     "name": "stdout",
     "output_type": "stream",
     "text": [
      "(8, 17)\n"
     ]
    }
   ],
   "source": [
    "# Confirm how many rows we have\n",
    "print(outliers.shape)"
   ]
  },
  {
   "cell_type": "markdown",
   "id": "56145b08",
   "metadata": {},
   "source": [
    "### 7.4 Observations\n",
    "- After removing the null and zero values for northing and easting to form a map of Camden town, we came across other outliers too. There were 8 trees present outside of camden town which were present in this data. These outliers can lead to non accurate  geoanalysis reporting by the Council management. All the trees should be present in Camden town"
   ]
  },
  {
   "cell_type": "markdown",
   "id": "ea5be183",
   "metadata": {},
   "source": [
    "# Task 8: Identify Unmatched Data\n",
    "We have multiple datasets that will need to be joined together to produce the analyses required by the Camden Parks and Open Spaces team. The data will need to be joined in the following way:\n",
    "\n",
    "- Use the Identifier column in the trees dataset to match to the Identifier column in the environmental data set (so we can bring in the environmental data for each tree)\n",
    "- Use the Scientific Name column in the trees dataset to match to the Scientific Name column in the common names data set (so we can look up the Common Name)\n",
    "\n",
    "There may be mismatches in the data. Of particular concern we want to check\n",
    "\n",
    "- That every tree in the trees dataset has matching environmental data in the environmental data set\n",
    "- That every environmental row in the environmental dataset has matching tree data in the tree data set\n",
    "- That every scientific name in the trees dataset has a matching common name in the common names data set\n",
    "\n",
    "We aren't too concerned about the reverse of the last scenario (if we have extra names in the common names dataset that aren't in the trees data set). We don't expect Camden to have a specimen of every tree that exists!\n",
    "\n",
    "There are a few ways this can be done, but one technique is to use the isin function to check if some column in one dataframe contains values that are in another column in another dataframe. This creates a mask containing rows that match between the two dataframes:\n",
    "\n",
    "- mask = df1['column_name1'].isin(df2['column_name2'])\n",
    "\n",
    "To select the non-matching rows, we can use Python's bitwise not operator ~:\n",
    "\n",
    "- mask = ~df1['column_name1'].isin(df2['column_name2'])\n",
    "\n",
    "As we have seen before, the mask can be used to select that subset of rows back from the original dataframe.\n",
    "### 8.1 Find Trees that Don't have Matching Environmental Data"
   ]
  },
  {
   "cell_type": "code",
   "execution_count": 87,
   "id": "24bba33e",
   "metadata": {},
   "outputs": [
    {
     "data": {
      "text/html": [
       "<div>\n",
       "<style scoped>\n",
       "    .dataframe tbody tr th:only-of-type {\n",
       "        vertical-align: middle;\n",
       "    }\n",
       "\n",
       "    .dataframe tbody tr th {\n",
       "        vertical-align: top;\n",
       "    }\n",
       "\n",
       "    .dataframe thead th {\n",
       "        text-align: right;\n",
       "    }\n",
       "</style>\n",
       "<table border=\"1\" class=\"dataframe\">\n",
       "  <thead>\n",
       "    <tr style=\"text-align: right;\">\n",
       "      <th></th>\n",
       "      <th>Identifier</th>\n",
       "      <th>Number Of Trees</th>\n",
       "      <th>Site Name</th>\n",
       "      <th>Contract Area</th>\n",
       "      <th>Scientific Name</th>\n",
       "      <th>Inspection Date</th>\n",
       "      <th>Inspection Due Date</th>\n",
       "      <th>Height In Metres</th>\n",
       "      <th>Spread In Metres</th>\n",
       "      <th>Diameter In Centimetres At Breast Height</th>\n",
       "      <th>Ward Code</th>\n",
       "      <th>Ward Name</th>\n",
       "      <th>Easting</th>\n",
       "      <th>Northing</th>\n",
       "      <th>Longitude</th>\n",
       "      <th>Latitude</th>\n",
       "      <th>Location</th>\n",
       "    </tr>\n",
       "  </thead>\n",
       "  <tbody>\n",
       "    <tr>\n",
       "      <th>0</th>\n",
       "      <td>00060053</td>\n",
       "      <td>1.0</td>\n",
       "      <td>Russell Nurseries Estate</td>\n",
       "      <td>Housing</td>\n",
       "      <td>Vacant Tree Pit</td>\n",
       "      <td>NaT</td>\n",
       "      <td>NaN</td>\n",
       "      <td>NaN</td>\n",
       "      <td>NaN</td>\n",
       "      <td>NaN</td>\n",
       "      <td>E05000135</td>\n",
       "      <td>Hampstead Town</td>\n",
       "      <td>527305</td>\n",
       "      <td>185240</td>\n",
       "      <td>-0.165240</td>\n",
       "      <td>51.551693</td>\n",
       "      <td>(51.551693, -0.16524)</td>\n",
       "    </tr>\n",
       "    <tr>\n",
       "      <th>1</th>\n",
       "      <td>00057855</td>\n",
       "      <td>1.0</td>\n",
       "      <td>BRECKNOCK JMI (E)</td>\n",
       "      <td>Education</td>\n",
       "      <td>Vacant Tree Pit</td>\n",
       "      <td>2019-07-17</td>\n",
       "      <td>2022/2023</td>\n",
       "      <td>NaN</td>\n",
       "      <td>NaN</td>\n",
       "      <td>NaN</td>\n",
       "      <td>E05000131</td>\n",
       "      <td>Cantelowes</td>\n",
       "      <td>529923</td>\n",
       "      <td>184782</td>\n",
       "      <td>-0.127681</td>\n",
       "      <td>51.546984</td>\n",
       "      <td>(51.546984, -0.127681)</td>\n",
       "    </tr>\n",
       "    <tr>\n",
       "      <th>2</th>\n",
       "      <td>00059953</td>\n",
       "      <td>1.0</td>\n",
       "      <td>Estate 51 Ravenshaw Street</td>\n",
       "      <td>Housing</td>\n",
       "      <td>Ficus carica</td>\n",
       "      <td>NaT</td>\n",
       "      <td>NaN</td>\n",
       "      <td>5.0</td>\n",
       "      <td>4.0</td>\n",
       "      <td>10.0</td>\n",
       "      <td>NaN</td>\n",
       "      <td>NaN</td>\n",
       "      <td>0</td>\n",
       "      <td>0</td>\n",
       "      <td>NaN</td>\n",
       "      <td>NaN</td>\n",
       "      <td>NaN</td>\n",
       "    </tr>\n",
       "    <tr>\n",
       "      <th>3</th>\n",
       "      <td>00059915</td>\n",
       "      <td>1.0</td>\n",
       "      <td>ROSARY RC JMI (E)</td>\n",
       "      <td>Education</td>\n",
       "      <td>Betula jacquemontii</td>\n",
       "      <td>NaT</td>\n",
       "      <td>NaN</td>\n",
       "      <td>4.0</td>\n",
       "      <td>1.0</td>\n",
       "      <td>6.0</td>\n",
       "      <td>E05000135</td>\n",
       "      <td>Hampstead Town</td>\n",
       "      <td>527249</td>\n",
       "      <td>185261</td>\n",
       "      <td>-0.166051</td>\n",
       "      <td>51.551901</td>\n",
       "      <td>(51.551901, -0.166051)</td>\n",
       "    </tr>\n",
       "    <tr>\n",
       "      <th>4</th>\n",
       "      <td>00010762</td>\n",
       "      <td>1.0</td>\n",
       "      <td>Holly Lodge Estate</td>\n",
       "      <td>Housing</td>\n",
       "      <td>Ilex x altaclarensis</td>\n",
       "      <td>2017-06-14</td>\n",
       "      <td>2020/2021</td>\n",
       "      <td>14.0</td>\n",
       "      <td>6.0</td>\n",
       "      <td>26.0</td>\n",
       "      <td>E05000137</td>\n",
       "      <td>Highgate</td>\n",
       "      <td>528414</td>\n",
       "      <td>186770</td>\n",
       "      <td>-0.148704</td>\n",
       "      <td>51.565198</td>\n",
       "      <td>(51.565198, -0.148704)</td>\n",
       "    </tr>\n",
       "    <tr>\n",
       "      <th>...</th>\n",
       "      <td>...</td>\n",
       "      <td>...</td>\n",
       "      <td>...</td>\n",
       "      <td>...</td>\n",
       "      <td>...</td>\n",
       "      <td>...</td>\n",
       "      <td>...</td>\n",
       "      <td>...</td>\n",
       "      <td>...</td>\n",
       "      <td>...</td>\n",
       "      <td>...</td>\n",
       "      <td>...</td>\n",
       "      <td>...</td>\n",
       "      <td>...</td>\n",
       "      <td>...</td>\n",
       "      <td>...</td>\n",
       "      <td>...</td>\n",
       "    </tr>\n",
       "    <tr>\n",
       "      <th>23439</th>\n",
       "      <td>00057455</td>\n",
       "      <td>1.0</td>\n",
       "      <td>KILBURN GRANGE, MESSINA AVE (LS)</td>\n",
       "      <td>Parks</td>\n",
       "      <td>Sorbus aria</td>\n",
       "      <td>2017-03-28</td>\n",
       "      <td>2019/2020</td>\n",
       "      <td>2.0</td>\n",
       "      <td>1.0</td>\n",
       "      <td>6.0</td>\n",
       "      <td>E05000140</td>\n",
       "      <td>Kilburn</td>\n",
       "      <td>525130</td>\n",
       "      <td>184418</td>\n",
       "      <td>-0.196884</td>\n",
       "      <td>51.544796</td>\n",
       "      <td>(51.544796, -0.196884)</td>\n",
       "    </tr>\n",
       "    <tr>\n",
       "      <th>23440</th>\n",
       "      <td>00015494</td>\n",
       "      <td>1.0</td>\n",
       "      <td>OSSULSTON STREET</td>\n",
       "      <td>Highways</td>\n",
       "      <td>Sorbus aria 'Majestica'</td>\n",
       "      <td>2019-10-28</td>\n",
       "      <td>2022/2023</td>\n",
       "      <td>12.0</td>\n",
       "      <td>6.0</td>\n",
       "      <td>48.0</td>\n",
       "      <td>E05000143</td>\n",
       "      <td>St Pancras and Somers Town</td>\n",
       "      <td>529758</td>\n",
       "      <td>183095</td>\n",
       "      <td>-0.130667</td>\n",
       "      <td>51.531863</td>\n",
       "      <td>(51.531863, -0.130667)</td>\n",
       "    </tr>\n",
       "    <tr>\n",
       "      <th>23441</th>\n",
       "      <td>00001693</td>\n",
       "      <td>1.0</td>\n",
       "      <td>BELMONT STREET</td>\n",
       "      <td>Highways</td>\n",
       "      <td>Platanus x hispanica</td>\n",
       "      <td>2017-07-31</td>\n",
       "      <td>2020/2021</td>\n",
       "      <td>18.0</td>\n",
       "      <td>10.0</td>\n",
       "      <td>57.0</td>\n",
       "      <td>E05000136</td>\n",
       "      <td>Haverstock</td>\n",
       "      <td>528302</td>\n",
       "      <td>184457</td>\n",
       "      <td>-0.151163</td>\n",
       "      <td>51.544432</td>\n",
       "      <td>(51.544432, -0.151163)</td>\n",
       "    </tr>\n",
       "    <tr>\n",
       "      <th>23442</th>\n",
       "      <td>00020342</td>\n",
       "      <td>1.0</td>\n",
       "      <td>Templar House Estate</td>\n",
       "      <td>Housing</td>\n",
       "      <td>Tilia europaea</td>\n",
       "      <td>2018-11-05</td>\n",
       "      <td>2021/2022</td>\n",
       "      <td>20.0</td>\n",
       "      <td>8.0</td>\n",
       "      <td>40.0</td>\n",
       "      <td>E05000132</td>\n",
       "      <td>Fortune Green</td>\n",
       "      <td>524615</td>\n",
       "      <td>184714</td>\n",
       "      <td>-0.204206</td>\n",
       "      <td>51.547573</td>\n",
       "      <td>(51.547573, -0.204206)</td>\n",
       "    </tr>\n",
       "    <tr>\n",
       "      <th>23443</th>\n",
       "      <td>00013369</td>\n",
       "      <td>1.0</td>\n",
       "      <td>LYNDHURST ROAD</td>\n",
       "      <td>Highways</td>\n",
       "      <td>Tilia europaea</td>\n",
       "      <td>2018-06-08</td>\n",
       "      <td>2021/2022</td>\n",
       "      <td>15.0</td>\n",
       "      <td>6.0</td>\n",
       "      <td>77.0</td>\n",
       "      <td>E05000135</td>\n",
       "      <td>Hampstead Town</td>\n",
       "      <td>526738</td>\n",
       "      <td>185304</td>\n",
       "      <td>-0.173397</td>\n",
       "      <td>51.552397</td>\n",
       "      <td>(51.552397, -0.173397)</td>\n",
       "    </tr>\n",
       "  </tbody>\n",
       "</table>\n",
       "<p>23403 rows × 17 columns</p>\n",
       "</div>"
      ],
      "text/plain": [
       "      Identifier  Number Of Trees                         Site Name  \\\n",
       "0       00060053              1.0          Russell Nurseries Estate   \n",
       "1       00057855              1.0                 BRECKNOCK JMI (E)   \n",
       "2       00059953              1.0        Estate 51 Ravenshaw Street   \n",
       "3       00059915              1.0                 ROSARY RC JMI (E)   \n",
       "4       00010762              1.0                Holly Lodge Estate   \n",
       "...          ...              ...                               ...   \n",
       "23439   00057455              1.0  KILBURN GRANGE, MESSINA AVE (LS)   \n",
       "23440   00015494              1.0                  OSSULSTON STREET   \n",
       "23441   00001693              1.0                    BELMONT STREET   \n",
       "23442   00020342              1.0              Templar House Estate   \n",
       "23443   00013369              1.0                    LYNDHURST ROAD   \n",
       "\n",
       "      Contract Area          Scientific Name Inspection Date  \\\n",
       "0           Housing          Vacant Tree Pit             NaT   \n",
       "1         Education          Vacant Tree Pit      2019-07-17   \n",
       "2           Housing             Ficus carica             NaT   \n",
       "3         Education      Betula jacquemontii             NaT   \n",
       "4           Housing     Ilex x altaclarensis      2017-06-14   \n",
       "...             ...                      ...             ...   \n",
       "23439         Parks              Sorbus aria      2017-03-28   \n",
       "23440      Highways  Sorbus aria 'Majestica'      2019-10-28   \n",
       "23441      Highways     Platanus x hispanica      2017-07-31   \n",
       "23442       Housing           Tilia europaea      2018-11-05   \n",
       "23443      Highways           Tilia europaea      2018-06-08   \n",
       "\n",
       "      Inspection Due Date  Height In Metres  Spread In Metres  \\\n",
       "0                     NaN               NaN               NaN   \n",
       "1               2022/2023               NaN               NaN   \n",
       "2                     NaN               5.0               4.0   \n",
       "3                     NaN               4.0               1.0   \n",
       "4               2020/2021              14.0               6.0   \n",
       "...                   ...               ...               ...   \n",
       "23439           2019/2020               2.0               1.0   \n",
       "23440           2022/2023              12.0               6.0   \n",
       "23441           2020/2021              18.0              10.0   \n",
       "23442           2021/2022              20.0               8.0   \n",
       "23443           2021/2022              15.0               6.0   \n",
       "\n",
       "       Diameter In Centimetres At Breast Height  Ward Code  \\\n",
       "0                                           NaN  E05000135   \n",
       "1                                           NaN  E05000131   \n",
       "2                                          10.0        NaN   \n",
       "3                                           6.0  E05000135   \n",
       "4                                          26.0  E05000137   \n",
       "...                                         ...        ...   \n",
       "23439                                       6.0  E05000140   \n",
       "23440                                      48.0  E05000143   \n",
       "23441                                      57.0  E05000136   \n",
       "23442                                      40.0  E05000132   \n",
       "23443                                      77.0  E05000135   \n",
       "\n",
       "                        Ward Name  Easting  Northing  Longitude   Latitude  \\\n",
       "0                  Hampstead Town   527305    185240  -0.165240  51.551693   \n",
       "1                      Cantelowes   529923    184782  -0.127681  51.546984   \n",
       "2                             NaN        0         0        NaN        NaN   \n",
       "3                  Hampstead Town   527249    185261  -0.166051  51.551901   \n",
       "4                        Highgate   528414    186770  -0.148704  51.565198   \n",
       "...                           ...      ...       ...        ...        ...   \n",
       "23439                     Kilburn   525130    184418  -0.196884  51.544796   \n",
       "23440  St Pancras and Somers Town   529758    183095  -0.130667  51.531863   \n",
       "23441                  Haverstock   528302    184457  -0.151163  51.544432   \n",
       "23442               Fortune Green   524615    184714  -0.204206  51.547573   \n",
       "23443              Hampstead Town   526738    185304  -0.173397  51.552397   \n",
       "\n",
       "                     Location  \n",
       "0       (51.551693, -0.16524)  \n",
       "1      (51.546984, -0.127681)  \n",
       "2                         NaN  \n",
       "3      (51.551901, -0.166051)  \n",
       "4      (51.565198, -0.148704)  \n",
       "...                       ...  \n",
       "23439  (51.544796, -0.196884)  \n",
       "23440  (51.531863, -0.130667)  \n",
       "23441  (51.544432, -0.151163)  \n",
       "23442  (51.547573, -0.204206)  \n",
       "23443  (51.552397, -0.173397)  \n",
       "\n",
       "[23403 rows x 17 columns]"
      ]
     },
     "execution_count": 87,
     "metadata": {},
     "output_type": "execute_result"
    }
   ],
   "source": [
    "# Find trees that don't have matching environmental data\n",
    "mask=~trees[\"Identifier\"].isin(environmental[\"Identifier\"])\n",
    "trees[mask]"
   ]
  },
  {
   "cell_type": "code",
   "execution_count": 88,
   "id": "26b9cbc1",
   "metadata": {},
   "outputs": [
    {
     "name": "stdout",
     "output_type": "stream",
     "text": [
      "(23403, 17)\n"
     ]
    }
   ],
   "source": [
    "# Confirm how many rows we have\n",
    "print(trees[mask].shape)"
   ]
  },
  {
   "cell_type": "markdown",
   "id": "8627bcb1",
   "metadata": {},
   "source": [
    "### 8.2 Find Environmental Data that Doesn't have Matching Tree Data"
   ]
  },
  {
   "cell_type": "code",
   "execution_count": 89,
   "id": "52339dbe",
   "metadata": {},
   "outputs": [
    {
     "data": {
      "text/html": [
       "<div>\n",
       "<style scoped>\n",
       "    .dataframe tbody tr th:only-of-type {\n",
       "        vertical-align: middle;\n",
       "    }\n",
       "\n",
       "    .dataframe tbody tr th {\n",
       "        vertical-align: top;\n",
       "    }\n",
       "\n",
       "    .dataframe thead th {\n",
       "        text-align: right;\n",
       "    }\n",
       "</style>\n",
       "<table border=\"1\" class=\"dataframe\">\n",
       "  <thead>\n",
       "    <tr style=\"text-align: right;\">\n",
       "      <th></th>\n",
       "      <th>Identifier</th>\n",
       "      <th>Maturity</th>\n",
       "      <th>Physiological Condition</th>\n",
       "      <th>Tree Set To Be Removed</th>\n",
       "      <th>Removal Reason</th>\n",
       "      <th>Capital Asset Value For Amenity Trees</th>\n",
       "      <th>Carbon Storage In Kilograms</th>\n",
       "      <th>Gross Carbon Sequestration Per Year In Kilograms</th>\n",
       "      <th>Pollution Removal Per Year In Grams</th>\n",
       "    </tr>\n",
       "  </thead>\n",
       "  <tbody>\n",
       "    <tr>\n",
       "      <th>0</th>\n",
       "      <td>55125</td>\n",
       "      <td>Juvenile</td>\n",
       "      <td>Good</td>\n",
       "      <td>No</td>\n",
       "      <td>NaN</td>\n",
       "      <td>115.07</td>\n",
       "      <td>1.6</td>\n",
       "      <td>0.5</td>\n",
       "      <td>5.7</td>\n",
       "    </tr>\n",
       "    <tr>\n",
       "      <th>1</th>\n",
       "      <td>59429</td>\n",
       "      <td>Middle aged</td>\n",
       "      <td>Fair</td>\n",
       "      <td>No</td>\n",
       "      <td>NaN</td>\n",
       "      <td>7518.08</td>\n",
       "      <td>NaN</td>\n",
       "      <td>NaN</td>\n",
       "      <td>NaN</td>\n",
       "    </tr>\n",
       "    <tr>\n",
       "      <th>2</th>\n",
       "      <td>18254</td>\n",
       "      <td>Mature</td>\n",
       "      <td>Fair</td>\n",
       "      <td>No</td>\n",
       "      <td>NaN</td>\n",
       "      <td>20419.63</td>\n",
       "      <td>426.4</td>\n",
       "      <td>8.8</td>\n",
       "      <td>215.2</td>\n",
       "    </tr>\n",
       "    <tr>\n",
       "      <th>3</th>\n",
       "      <td>27155</td>\n",
       "      <td>Mature</td>\n",
       "      <td>Fair</td>\n",
       "      <td>No</td>\n",
       "      <td>NaN</td>\n",
       "      <td>21447.74</td>\n",
       "      <td>448.3</td>\n",
       "      <td>9.6</td>\n",
       "      <td>379.1</td>\n",
       "    </tr>\n",
       "    <tr>\n",
       "      <th>4</th>\n",
       "      <td>41326</td>\n",
       "      <td>Juvenile</td>\n",
       "      <td>Good</td>\n",
       "      <td>No</td>\n",
       "      <td>NaN</td>\n",
       "      <td>524.30</td>\n",
       "      <td>9.9</td>\n",
       "      <td>1.4</td>\n",
       "      <td>12.8</td>\n",
       "    </tr>\n",
       "    <tr>\n",
       "      <th>...</th>\n",
       "      <td>...</td>\n",
       "      <td>...</td>\n",
       "      <td>...</td>\n",
       "      <td>...</td>\n",
       "      <td>...</td>\n",
       "      <td>...</td>\n",
       "      <td>...</td>\n",
       "      <td>...</td>\n",
       "      <td>...</td>\n",
       "    </tr>\n",
       "    <tr>\n",
       "      <th>23410</th>\n",
       "      <td>7869</td>\n",
       "      <td>Mature</td>\n",
       "      <td>Fair</td>\n",
       "      <td>No</td>\n",
       "      <td>NaN</td>\n",
       "      <td>13126.91</td>\n",
       "      <td>368.4</td>\n",
       "      <td>9.4</td>\n",
       "      <td>331.2</td>\n",
       "    </tr>\n",
       "    <tr>\n",
       "      <th>23411</th>\n",
       "      <td>2691</td>\n",
       "      <td>Mature</td>\n",
       "      <td>Good</td>\n",
       "      <td>No</td>\n",
       "      <td>NaN</td>\n",
       "      <td>11185.06</td>\n",
       "      <td>197.6</td>\n",
       "      <td>7.8</td>\n",
       "      <td>170.7</td>\n",
       "    </tr>\n",
       "    <tr>\n",
       "      <th>23412</th>\n",
       "      <td>5801</td>\n",
       "      <td>Mature</td>\n",
       "      <td>Fair</td>\n",
       "      <td>No</td>\n",
       "      <td>NaN</td>\n",
       "      <td>7269.71</td>\n",
       "      <td>359.4</td>\n",
       "      <td>10.6</td>\n",
       "      <td>27.1</td>\n",
       "    </tr>\n",
       "    <tr>\n",
       "      <th>23413</th>\n",
       "      <td>7948</td>\n",
       "      <td>Middle aged</td>\n",
       "      <td>Fair</td>\n",
       "      <td>No</td>\n",
       "      <td>NaN</td>\n",
       "      <td>2854.52</td>\n",
       "      <td>90.4</td>\n",
       "      <td>4.7</td>\n",
       "      <td>60.8</td>\n",
       "    </tr>\n",
       "    <tr>\n",
       "      <th>23414</th>\n",
       "      <td>1786</td>\n",
       "      <td>Mature</td>\n",
       "      <td>Fair</td>\n",
       "      <td>No</td>\n",
       "      <td>NaN</td>\n",
       "      <td>18131.49</td>\n",
       "      <td>481.0</td>\n",
       "      <td>10.0</td>\n",
       "      <td>249.1</td>\n",
       "    </tr>\n",
       "  </tbody>\n",
       "</table>\n",
       "<p>23374 rows × 9 columns</p>\n",
       "</div>"
      ],
      "text/plain": [
       "      Identifier     Maturity Physiological Condition Tree Set To Be Removed  \\\n",
       "0          55125     Juvenile                    Good                     No   \n",
       "1          59429  Middle aged                    Fair                     No   \n",
       "2          18254       Mature                    Fair                     No   \n",
       "3          27155       Mature                    Fair                     No   \n",
       "4          41326     Juvenile                    Good                     No   \n",
       "...          ...          ...                     ...                    ...   \n",
       "23410       7869       Mature                    Fair                     No   \n",
       "23411       2691       Mature                    Good                     No   \n",
       "23412       5801       Mature                    Fair                     No   \n",
       "23413       7948  Middle aged                    Fair                     No   \n",
       "23414       1786       Mature                    Fair                     No   \n",
       "\n",
       "      Removal Reason  Capital Asset Value For Amenity Trees  \\\n",
       "0                NaN                                 115.07   \n",
       "1                NaN                                7518.08   \n",
       "2                NaN                               20419.63   \n",
       "3                NaN                               21447.74   \n",
       "4                NaN                                 524.30   \n",
       "...              ...                                    ...   \n",
       "23410            NaN                               13126.91   \n",
       "23411            NaN                               11185.06   \n",
       "23412            NaN                                7269.71   \n",
       "23413            NaN                                2854.52   \n",
       "23414            NaN                               18131.49   \n",
       "\n",
       "       Carbon Storage In Kilograms  \\\n",
       "0                              1.6   \n",
       "1                              NaN   \n",
       "2                            426.4   \n",
       "3                            448.3   \n",
       "4                              9.9   \n",
       "...                            ...   \n",
       "23410                        368.4   \n",
       "23411                        197.6   \n",
       "23412                        359.4   \n",
       "23413                         90.4   \n",
       "23414                        481.0   \n",
       "\n",
       "       Gross Carbon Sequestration Per Year In Kilograms  \\\n",
       "0                                                   0.5   \n",
       "1                                                   NaN   \n",
       "2                                                   8.8   \n",
       "3                                                   9.6   \n",
       "4                                                   1.4   \n",
       "...                                                 ...   \n",
       "23410                                               9.4   \n",
       "23411                                               7.8   \n",
       "23412                                              10.6   \n",
       "23413                                               4.7   \n",
       "23414                                              10.0   \n",
       "\n",
       "       Pollution Removal Per Year In Grams  \n",
       "0                                      5.7  \n",
       "1                                      NaN  \n",
       "2                                    215.2  \n",
       "3                                    379.1  \n",
       "4                                     12.8  \n",
       "...                                    ...  \n",
       "23410                                331.2  \n",
       "23411                                170.7  \n",
       "23412                                 27.1  \n",
       "23413                                 60.8  \n",
       "23414                                249.1  \n",
       "\n",
       "[23374 rows x 9 columns]"
      ]
     },
     "execution_count": 89,
     "metadata": {},
     "output_type": "execute_result"
    }
   ],
   "source": [
    "# Find environmental data that doesn't have matching tree data\n",
    "mask2=~environmental['Identifier'].isin(trees['Identifier'])\n",
    "environmental[mask2]"
   ]
  },
  {
   "cell_type": "code",
   "execution_count": 90,
   "id": "7fa29f86",
   "metadata": {},
   "outputs": [
    {
     "name": "stdout",
     "output_type": "stream",
     "text": [
      "(23374, 9)\n"
     ]
    }
   ],
   "source": [
    "# Confirm how many rows we have\n",
    "print(environmental[mask2].shape)"
   ]
  },
  {
   "cell_type": "markdown",
   "id": "d5904514",
   "metadata": {},
   "source": [
    "### 8.3 Find Trees that Don't have Matching Common Names Data"
   ]
  },
  {
   "cell_type": "code",
   "execution_count": 91,
   "id": "cf333294",
   "metadata": {},
   "outputs": [
    {
     "data": {
      "text/html": [
       "<div>\n",
       "<style scoped>\n",
       "    .dataframe tbody tr th:only-of-type {\n",
       "        vertical-align: middle;\n",
       "    }\n",
       "\n",
       "    .dataframe tbody tr th {\n",
       "        vertical-align: top;\n",
       "    }\n",
       "\n",
       "    .dataframe thead th {\n",
       "        text-align: right;\n",
       "    }\n",
       "</style>\n",
       "<table border=\"1\" class=\"dataframe\">\n",
       "  <thead>\n",
       "    <tr style=\"text-align: right;\">\n",
       "      <th></th>\n",
       "      <th>Identifier</th>\n",
       "      <th>Number Of Trees</th>\n",
       "      <th>Site Name</th>\n",
       "      <th>Contract Area</th>\n",
       "      <th>Scientific Name</th>\n",
       "      <th>Inspection Date</th>\n",
       "      <th>Inspection Due Date</th>\n",
       "      <th>Height In Metres</th>\n",
       "      <th>Spread In Metres</th>\n",
       "      <th>Diameter In Centimetres At Breast Height</th>\n",
       "      <th>Ward Code</th>\n",
       "      <th>Ward Name</th>\n",
       "      <th>Easting</th>\n",
       "      <th>Northing</th>\n",
       "      <th>Longitude</th>\n",
       "      <th>Latitude</th>\n",
       "      <th>Location</th>\n",
       "    </tr>\n",
       "  </thead>\n",
       "  <tbody>\n",
       "    <tr>\n",
       "      <th>151</th>\n",
       "      <td>00051832</td>\n",
       "      <td>1.0</td>\n",
       "      <td>ARGYLE WALK</td>\n",
       "      <td>Highways</td>\n",
       "      <td>Sorbus aucuparia 'Streetwise'</td>\n",
       "      <td>2019-02-10</td>\n",
       "      <td>2022/2023</td>\n",
       "      <td>7.0</td>\n",
       "      <td>3.0</td>\n",
       "      <td>12.0</td>\n",
       "      <td>E05000141</td>\n",
       "      <td>King's Cross</td>\n",
       "      <td>530227</td>\n",
       "      <td>182706</td>\n",
       "      <td>-0.124054</td>\n",
       "      <td>51.528257</td>\n",
       "      <td>(51.528257, -0.124054)</td>\n",
       "    </tr>\n",
       "    <tr>\n",
       "      <th>384</th>\n",
       "      <td>00053954</td>\n",
       "      <td>1.0</td>\n",
       "      <td>CHURCHILL ROAD</td>\n",
       "      <td>Highways</td>\n",
       "      <td>Sorbus aucuparia 'Streetwise'</td>\n",
       "      <td>2017-10-07</td>\n",
       "      <td>2020/2021</td>\n",
       "      <td>3.0</td>\n",
       "      <td>2.0</td>\n",
       "      <td>5.0</td>\n",
       "      <td>E05000139</td>\n",
       "      <td>Kentish Town</td>\n",
       "      <td>529007</td>\n",
       "      <td>185975</td>\n",
       "      <td>-0.140440</td>\n",
       "      <td>51.557913</td>\n",
       "      <td>(51.557913, -0.14044)</td>\n",
       "    </tr>\n",
       "    <tr>\n",
       "      <th>495</th>\n",
       "      <td>00047497</td>\n",
       "      <td>1.0</td>\n",
       "      <td>PATSHULL PLACE</td>\n",
       "      <td>Highways</td>\n",
       "      <td>Sorbus aucuparia 'Streetwise'</td>\n",
       "      <td>2017-06-22</td>\n",
       "      <td>2020/2021</td>\n",
       "      <td>5.0</td>\n",
       "      <td>3.0</td>\n",
       "      <td>11.0</td>\n",
       "      <td>E05000131</td>\n",
       "      <td>Cantelowes</td>\n",
       "      <td>529202</td>\n",
       "      <td>184717</td>\n",
       "      <td>-0.138094</td>\n",
       "      <td>51.546569</td>\n",
       "      <td>(51.546569, -0.138094)</td>\n",
       "    </tr>\n",
       "    <tr>\n",
       "      <th>611</th>\n",
       "      <td>00055434</td>\n",
       "      <td>1.0</td>\n",
       "      <td>SHARPLES HALL STREET</td>\n",
       "      <td>Highways</td>\n",
       "      <td>Sorbus aucuparia 'Streetwise'</td>\n",
       "      <td>2019-09-30</td>\n",
       "      <td>2022/2023</td>\n",
       "      <td>2.0</td>\n",
       "      <td>2.0</td>\n",
       "      <td>4.0</td>\n",
       "      <td>E05000130</td>\n",
       "      <td>Camden Town with Primrose Hill</td>\n",
       "      <td>527962</td>\n",
       "      <td>184050</td>\n",
       "      <td>-0.156202</td>\n",
       "      <td>51.540853</td>\n",
       "      <td>(51.540853, -0.156202)</td>\n",
       "    </tr>\n",
       "    <tr>\n",
       "      <th>653</th>\n",
       "      <td>00055289</td>\n",
       "      <td>1.0</td>\n",
       "      <td>QUEEN'S CRESCENT</td>\n",
       "      <td>Highways</td>\n",
       "      <td>Sorbus aucuparia 'Streetwise'</td>\n",
       "      <td>2017-07-08</td>\n",
       "      <td>2020/2021</td>\n",
       "      <td>4.0</td>\n",
       "      <td>1.0</td>\n",
       "      <td>7.0</td>\n",
       "      <td>E05000136</td>\n",
       "      <td>Haverstock</td>\n",
       "      <td>528072</td>\n",
       "      <td>184723</td>\n",
       "      <td>-0.154369</td>\n",
       "      <td>51.546881</td>\n",
       "      <td>(51.546881, -0.154369)</td>\n",
       "    </tr>\n",
       "  </tbody>\n",
       "</table>\n",
       "</div>"
      ],
      "text/plain": [
       "    Identifier  Number Of Trees             Site Name Contract Area  \\\n",
       "151   00051832              1.0           ARGYLE WALK      Highways   \n",
       "384   00053954              1.0        CHURCHILL ROAD      Highways   \n",
       "495   00047497              1.0        PATSHULL PLACE      Highways   \n",
       "611   00055434              1.0  SHARPLES HALL STREET      Highways   \n",
       "653   00055289              1.0      QUEEN'S CRESCENT      Highways   \n",
       "\n",
       "                   Scientific Name Inspection Date Inspection Due Date  \\\n",
       "151  Sorbus aucuparia 'Streetwise'      2019-02-10           2022/2023   \n",
       "384  Sorbus aucuparia 'Streetwise'      2017-10-07           2020/2021   \n",
       "495  Sorbus aucuparia 'Streetwise'      2017-06-22           2020/2021   \n",
       "611  Sorbus aucuparia 'Streetwise'      2019-09-30           2022/2023   \n",
       "653  Sorbus aucuparia 'Streetwise'      2017-07-08           2020/2021   \n",
       "\n",
       "     Height In Metres  Spread In Metres  \\\n",
       "151               7.0               3.0   \n",
       "384               3.0               2.0   \n",
       "495               5.0               3.0   \n",
       "611               2.0               2.0   \n",
       "653               4.0               1.0   \n",
       "\n",
       "     Diameter In Centimetres At Breast Height  Ward Code  \\\n",
       "151                                      12.0  E05000141   \n",
       "384                                       5.0  E05000139   \n",
       "495                                      11.0  E05000131   \n",
       "611                                       4.0  E05000130   \n",
       "653                                       7.0  E05000136   \n",
       "\n",
       "                          Ward Name  Easting  Northing  Longitude   Latitude  \\\n",
       "151                    King's Cross   530227    182706  -0.124054  51.528257   \n",
       "384                    Kentish Town   529007    185975  -0.140440  51.557913   \n",
       "495                      Cantelowes   529202    184717  -0.138094  51.546569   \n",
       "611  Camden Town with Primrose Hill   527962    184050  -0.156202  51.540853   \n",
       "653                      Haverstock   528072    184723  -0.154369  51.546881   \n",
       "\n",
       "                   Location  \n",
       "151  (51.528257, -0.124054)  \n",
       "384   (51.557913, -0.14044)  \n",
       "495  (51.546569, -0.138094)  \n",
       "611  (51.540853, -0.156202)  \n",
       "653  (51.546881, -0.154369)  "
      ]
     },
     "execution_count": 91,
     "metadata": {},
     "output_type": "execute_result"
    }
   ],
   "source": [
    "mask3=~trees['Scientific Name'].isin(names['Scientific Name'])\n",
    "trees[mask3].head()"
   ]
  },
  {
   "cell_type": "code",
   "execution_count": 92,
   "id": "f9e61e19",
   "metadata": {},
   "outputs": [
    {
     "name": "stdout",
     "output_type": "stream",
     "text": [
      "(76, 17)\n"
     ]
    }
   ],
   "source": [
    "print(trees[mask3].shape)"
   ]
  },
  {
   "cell_type": "markdown",
   "id": "ea46f383",
   "metadata": {},
   "source": [
    "### 8.4 Observations"
   ]
  },
  {
   "cell_type": "markdown",
   "id": "b828ec67",
   "metadata": {},
   "source": [
    "- After observing mismatched data we can say there are 41 Identifiers present in the trees dataset which are common in the both the datasets. There are 23404 identifiers in the trees dataset which are not present in environmental dataset. \n",
    "\n",
    "- Same is the case for environmental data that does not have matching tree data(41 common identifiers). There are 23374 identifiers in the trees dataset which are not present in environmental dataset.\n",
    "\n",
    "- There are 76 mismatched common names between names dataset and trees dataset."
   ]
  },
  {
   "cell_type": "markdown",
   "id": "72d62b2c",
   "metadata": {},
   "source": [
    "# END OF NOTEBOOK"
   ]
  }
 ],
 "metadata": {
  "kernelspec": {
   "display_name": "Python 3 (ipykernel)",
   "language": "python",
   "name": "python3"
  },
  "language_info": {
   "codemirror_mode": {
    "name": "ipython",
    "version": 3
   },
   "file_extension": ".py",
   "mimetype": "text/x-python",
   "name": "python",
   "nbconvert_exporter": "python",
   "pygments_lexer": "ipython3",
   "version": "3.12.4"
  }
 },
 "nbformat": 4,
 "nbformat_minor": 5
}
